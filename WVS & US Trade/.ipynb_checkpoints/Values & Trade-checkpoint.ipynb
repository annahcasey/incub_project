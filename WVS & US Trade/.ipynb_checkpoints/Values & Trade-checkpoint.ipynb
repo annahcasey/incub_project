{
 "cells": [
  {
   "cell_type": "code",
   "execution_count": 90,
   "metadata": {},
   "outputs": [],
   "source": [
    "import numpy as np\n",
    "import pandas as pd\n",
    "import matplotlib.pyplot as plt\n",
    "import seaborn as sns\n",
    "import re"
   ]
  },
  {
   "cell_type": "code",
   "execution_count": 91,
   "metadata": {},
   "outputs": [],
   "source": [
    "wvs = pd.read_csv('Data/WVS_abridged.csv')"
   ]
  },
  {
   "cell_type": "code",
   "execution_count": 92,
   "metadata": {},
   "outputs": [],
   "source": [
    "wvs = wvs.iloc[:,1:-6]"
   ]
  },
  {
   "cell_type": "code",
   "execution_count": 93,
   "metadata": {},
   "outputs": [
    {
     "data": {
      "text/html": [
       "<div>\n",
       "<style scoped>\n",
       "    .dataframe tbody tr th:only-of-type {\n",
       "        vertical-align: middle;\n",
       "    }\n",
       "\n",
       "    .dataframe tbody tr th {\n",
       "        vertical-align: top;\n",
       "    }\n",
       "\n",
       "    .dataframe thead th {\n",
       "        text-align: right;\n",
       "    }\n",
       "</style>\n",
       "<table border=\"1\" class=\"dataframe\">\n",
       "  <thead>\n",
       "    <tr style=\"text-align: right;\">\n",
       "      <th></th>\n",
       "      <th>S020</th>\n",
       "      <th>S025</th>\n",
       "      <th>COW_ALPHA</th>\n",
       "      <th>Y001</th>\n",
       "      <th>Y002</th>\n",
       "      <th>Y003</th>\n",
       "      <th>Y010</th>\n",
       "      <th>Y011</th>\n",
       "      <th>Y012</th>\n",
       "      <th>Y013</th>\n",
       "      <th>...</th>\n",
       "      <th>Y021C</th>\n",
       "      <th>Y022A</th>\n",
       "      <th>Y022B</th>\n",
       "      <th>Y022C</th>\n",
       "      <th>Y023A</th>\n",
       "      <th>Y023B</th>\n",
       "      <th>Y023C</th>\n",
       "      <th>Y024A</th>\n",
       "      <th>Y024B</th>\n",
       "      <th>Y024C</th>\n",
       "    </tr>\n",
       "  </thead>\n",
       "  <tbody>\n",
       "    <tr>\n",
       "      <th>0</th>\n",
       "      <td>2018</td>\n",
       "      <td>202018</td>\n",
       "      <td>AND</td>\n",
       "      <td>0.0</td>\n",
       "      <td>1.0</td>\n",
       "      <td>0.0</td>\n",
       "      <td>0.287062</td>\n",
       "      <td>0.38258</td>\n",
       "      <td>0.666667</td>\n",
       "      <td>0.0</td>\n",
       "      <td>...</td>\n",
       "      <td>0.0</td>\n",
       "      <td>0.75</td>\n",
       "      <td>0.66</td>\n",
       "      <td>0.66</td>\n",
       "      <td>0.333333</td>\n",
       "      <td>0.111111</td>\n",
       "      <td>0.444444</td>\n",
       "      <td>0.00</td>\n",
       "      <td>0.0</td>\n",
       "      <td>0.000</td>\n",
       "    </tr>\n",
       "    <tr>\n",
       "      <th>1</th>\n",
       "      <td>2018</td>\n",
       "      <td>202018</td>\n",
       "      <td>AND</td>\n",
       "      <td>2.0</td>\n",
       "      <td>3.0</td>\n",
       "      <td>1.0</td>\n",
       "      <td>0.467525</td>\n",
       "      <td>0.22000</td>\n",
       "      <td>1.000000</td>\n",
       "      <td>0.0</td>\n",
       "      <td>...</td>\n",
       "      <td>0.0</td>\n",
       "      <td>0.75</td>\n",
       "      <td>0.66</td>\n",
       "      <td>0.66</td>\n",
       "      <td>0.888889</td>\n",
       "      <td>0.888889</td>\n",
       "      <td>0.888889</td>\n",
       "      <td>1.00</td>\n",
       "      <td>0.0</td>\n",
       "      <td>0.500</td>\n",
       "    </tr>\n",
       "    <tr>\n",
       "      <th>2</th>\n",
       "      <td>2018</td>\n",
       "      <td>202018</td>\n",
       "      <td>AND</td>\n",
       "      <td>4.0</td>\n",
       "      <td>2.0</td>\n",
       "      <td>-2.0</td>\n",
       "      <td>0.425304</td>\n",
       "      <td>0.44000</td>\n",
       "      <td>0.886667</td>\n",
       "      <td>0.0</td>\n",
       "      <td>...</td>\n",
       "      <td>1.0</td>\n",
       "      <td>0.75</td>\n",
       "      <td>0.66</td>\n",
       "      <td>0.66</td>\n",
       "      <td>1.000000</td>\n",
       "      <td>0.444444</td>\n",
       "      <td>0.555556</td>\n",
       "      <td>0.33</td>\n",
       "      <td>0.5</td>\n",
       "      <td>0.415</td>\n",
       "    </tr>\n",
       "    <tr>\n",
       "      <th>3</th>\n",
       "      <td>2018</td>\n",
       "      <td>202018</td>\n",
       "      <td>AND</td>\n",
       "      <td>2.0</td>\n",
       "      <td>2.0</td>\n",
       "      <td>0.0</td>\n",
       "      <td>0.556170</td>\n",
       "      <td>0.57458</td>\n",
       "      <td>1.000000</td>\n",
       "      <td>0.0</td>\n",
       "      <td>...</td>\n",
       "      <td>0.0</td>\n",
       "      <td>0.75</td>\n",
       "      <td>1.00</td>\n",
       "      <td>1.00</td>\n",
       "      <td>0.555556</td>\n",
       "      <td>0.333333</td>\n",
       "      <td>0.888889</td>\n",
       "      <td>0.33</td>\n",
       "      <td>0.5</td>\n",
       "      <td>0.415</td>\n",
       "    </tr>\n",
       "    <tr>\n",
       "      <th>4</th>\n",
       "      <td>2018</td>\n",
       "      <td>202018</td>\n",
       "      <td>AND</td>\n",
       "      <td>1.0</td>\n",
       "      <td>1.0</td>\n",
       "      <td>-1.0</td>\n",
       "      <td>0.458949</td>\n",
       "      <td>0.57458</td>\n",
       "      <td>0.886667</td>\n",
       "      <td>0.0</td>\n",
       "      <td>...</td>\n",
       "      <td>1.0</td>\n",
       "      <td>0.75</td>\n",
       "      <td>0.66</td>\n",
       "      <td>0.66</td>\n",
       "      <td>0.777778</td>\n",
       "      <td>0.444444</td>\n",
       "      <td>0.666667</td>\n",
       "      <td>0.00</td>\n",
       "      <td>0.5</td>\n",
       "      <td>0.250</td>\n",
       "    </tr>\n",
       "  </tbody>\n",
       "</table>\n",
       "<p>5 rows × 40 columns</p>\n",
       "</div>"
      ],
      "text/plain": [
       "   S020    S025 COW_ALPHA  Y001  Y002  Y003      Y010     Y011      Y012  \\\n",
       "0  2018  202018       AND   0.0   1.0   0.0  0.287062  0.38258  0.666667   \n",
       "1  2018  202018       AND   2.0   3.0   1.0  0.467525  0.22000  1.000000   \n",
       "2  2018  202018       AND   4.0   2.0  -2.0  0.425304  0.44000  0.886667   \n",
       "3  2018  202018       AND   2.0   2.0   0.0  0.556170  0.57458  1.000000   \n",
       "4  2018  202018       AND   1.0   1.0  -1.0  0.458949  0.57458  0.886667   \n",
       "\n",
       "   Y013  ...  Y021C  Y022A  Y022B  Y022C     Y023A     Y023B     Y023C  Y024A  \\\n",
       "0   0.0  ...    0.0   0.75   0.66   0.66  0.333333  0.111111  0.444444   0.00   \n",
       "1   0.0  ...    0.0   0.75   0.66   0.66  0.888889  0.888889  0.888889   1.00   \n",
       "2   0.0  ...    1.0   0.75   0.66   0.66  1.000000  0.444444  0.555556   0.33   \n",
       "3   0.0  ...    0.0   0.75   1.00   1.00  0.555556  0.333333  0.888889   0.33   \n",
       "4   0.0  ...    1.0   0.75   0.66   0.66  0.777778  0.444444  0.666667   0.00   \n",
       "\n",
       "   Y024B  Y024C  \n",
       "0    0.0  0.000  \n",
       "1    0.0  0.500  \n",
       "2    0.5  0.415  \n",
       "3    0.5  0.415  \n",
       "4    0.5  0.250  \n",
       "\n",
       "[5 rows x 40 columns]"
      ]
     },
     "execution_count": 93,
     "metadata": {},
     "output_type": "execute_result"
    }
   ],
   "source": [
    "wvs.head()"
   ]
  },
  {
   "cell_type": "code",
   "execution_count": 82,
   "metadata": {},
   "outputs": [],
   "source": [
    "with open ('columns.txt', 'r') as col_names:\n",
    "    strings=col_names.read()\n",
    "\n"
   ]
  },
  {
   "cell_type": "code",
   "execution_count": 99,
   "metadata": {},
   "outputs": [],
   "source": [
    "col_names = ['S020', 'S025', 'COW_ALPHA']\n",
    "for string in re.findall('Y[0-9][0-9][0-9]',strings):\n",
    "    if string not in col_names:\n",
    "        col_names.append(string)\n",
    "    elif string + 'A' not in col_names:\n",
    "        col_names.append(string + 'A')\n",
    "    elif string + 'B' not in col_names:\n",
    "        col_names.append(string + 'B')\n",
    "    elif string + 'C' not in col_names:\n",
    "        col_names.append(string + 'C')"
   ]
  },
  {
   "cell_type": "code",
   "execution_count": 107,
   "metadata": {},
   "outputs": [],
   "source": [
    "new_names = ['YEAR', 'YEAR_COUNTRY', 'COUNTRY', 'POSTMAT_IND12', 'POSTMAT_IND4', 'AUTONOMY_IND']\n",
    "for string in re.findall('[A-Z][A-Z][A-Z]*',strings):\n",
    "    new_names.append(string)"
   ]
  },
  {
   "cell_type": "code",
   "execution_count": 108,
   "metadata": {},
   "outputs": [],
   "source": [
    "col_dict = {col_names[i]:new_names[i] for i in range(0,len(col_names))}"
   ]
  },
  {
   "cell_type": "code",
   "execution_count": 110,
   "metadata": {},
   "outputs": [],
   "source": [
    "wvs.rename(columns = col_dict, inplace=True)"
   ]
  },
  {
   "cell_type": "code",
   "execution_count": null,
   "metadata": {},
   "outputs": [],
   "source": []
  },
  {
   "cell_type": "code",
   "execution_count": 3,
   "metadata": {},
   "outputs": [],
   "source": [
    "wvs6 = pd.read_sas('Data/WV6_Data_Sas_v20180912.sas7bdat')"
   ]
  },
  {
   "cell_type": "code",
   "execution_count": 4,
   "metadata": {},
   "outputs": [
    {
     "name": "stdout",
     "output_type": "stream",
     "text": [
      "Warning: column count mismatch (62 + 239 != 414)\n",
      "\n"
     ]
    }
   ],
   "source": [
    "wvs5 = pd.read_sas('Data/WV5_Data_Sas_v20180912.sas7bdat')"
   ]
  },
  {
   "cell_type": "code",
   "execution_count": 5,
   "metadata": {},
   "outputs": [
    {
     "name": "stdout",
     "output_type": "stream",
     "text": [
      "Warning: column count mismatch (64 + 247 != 432)\n",
      "\n"
     ]
    }
   ],
   "source": [
    "wvs4 = pd.read_sas('Data/WV4_Data_Sas_v20180912.sas7bdat')"
   ]
  },
  {
   "cell_type": "code",
   "execution_count": 6,
   "metadata": {},
   "outputs": [],
   "source": [
    "wvs3 = pd.read_sas('Data/WV3_Data_Sas_v20180912.sas7bdat')"
   ]
  },
  {
   "cell_type": "code",
   "execution_count": 7,
   "metadata": {},
   "outputs": [
    {
     "name": "stdout",
     "output_type": "stream",
     "text": [
      "Warning: column count mismatch (235 + 239 != 477)\n",
      "\n"
     ]
    }
   ],
   "source": [
    "wvs2 = pd.read_sas('Data/WV2_Data_Sas_v20180912.sas7bdat')"
   ]
  },
  {
   "cell_type": "code",
   "execution_count": 8,
   "metadata": {},
   "outputs": [],
   "source": [
    "wvs1 = pd.read_sas('Data/WV1_Data_sas_v20200208.sas7bdat')"
   ]
  },
  {
   "cell_type": "code",
   "execution_count": 9,
   "metadata": {},
   "outputs": [],
   "source": [
    "wvss = [wvs1, wvs2, wvs3, wvs4, wvs5, wvs6, wvs7]"
   ]
  },
  {
   "cell_type": "code",
   "execution_count": 10,
   "metadata": {},
   "outputs": [],
   "source": [
    "all_wvs = pd.DataFrame()"
   ]
  },
  {
   "cell_type": "code",
   "execution_count": 11,
   "metadata": {},
   "outputs": [],
   "source": [
    "\"\"\"Cleans the COUNTRY_ISO column in World Value Survey (WVS) wave 1 to create a column with 3-letter \n",
    "country code\"\"\"\n",
    "wvs1['COUNTRY'] = wvs1['COUNTRY_ISO'].astype(str).str.replace('b|\\'','').str.replace('[A]?RG','ARG')"
   ]
  },
  {
   "cell_type": "code",
   "execution_count": 12,
   "metadata": {},
   "outputs": [],
   "source": [
    "\"\"\"Copy and pasted from the codebooks: COW codes from WSV wave 2 through wave 6 with their respective country names and \n",
    "3-letter country codes\"\"\"\n",
    "cow_code_strs = [\"70.- MEX Mexico140.- BRA Brazil155.- CHL Chile160.- ARG Argentina225.- SWZ Switzerland230.- SPN Spain290.- POL Poland316.- CZR Czech Republic317.- SLO Slovakia365.- RUS Russia370.- BLR Belarus475.- NIG Nigeria560.- SAF South Africa640.- TUR Turkey710.- CHN China732.- ROK South Korea740.- JPN Japan750.- IND India\",\n",
    "                 \"2USA United States of America6PRI Puerto Rico42DOM Dominican Republic70MEX Mexico92SAL El Salvador100COL Colombia101VEN Venezuela135PER Peru140BRA Brazil155CHL Chile160ARG Argentina165URU Uruguay200UKG United Kingdom225SWZ Switzerland230SPN Spain260GFR German Federal Republic265GDR German Democratic Republic290POL Poland310HUN Hungary316CZR Czech Republic317SLO Slovakia339ALB Albania341MNG Montenegro343MAC Macedonia344CRO Croatia345YUG Yugoslavia346BOS Bosnia and Herzegovina349SLV Slovenia355BUL Bulgaria359MLD Moldova360ROM Romania365RUS Russia366EST Estonia367LAT Latvia368LIT Lithuania369UKR Ukraine370BLR Belarus371ARM Armenia372GRG Georgia373AZE Azerbaijan375FIN Finland380SWD Sweden385NOR Norway475NIG Nigeria560SAF South Africa640TUR Turkey710CHN China713TAW Taiwan732ROK South Korea740JPN Japan750IND India770PAK Pakistan771BNG Bangladesh840PHI Philippines900AUL Australia920NEW New Zeala\",\n",
    "                 \"2USA United States of America6PRI Puerto Rico20CAN Canada70MEX Mexico101VEN Venezuela135PER Peru155CHL Chile160ARG Argentina230SPN Spain339ALB Albania341MNG Montenegro343MAC Macedonia345YUG Yugoslavia346BOS Bosnia and Herzegovina359MLD Moldova380SWD Sweden475NIG Nigeria500UGA Uganda510TAZ Tanzania552ZIM Zimbabwe560SAF South Africa600MOR Morocco615ALG Algeria630IRN Iran640TUR Turkey645IRQ Iraq651EGY Egypt663JOR Jordan666ISR Israel670SAU Saudi Arabia703KYR Kyrgyzstan710CHN China732ROK South Korea740JPN Japan750IND India770PAK Pakistan771BNG Bangladesh816DRV Vietnam830SIN Singapore840PHI Philippines850INS Indonesi\",\n",
    "                 \"2USA United States of America20CAN Canada52TRI Trinidad and Tobago70MEX Mexico90GUA Guatemala100COL Colombia135PER Peru140BRA Brazil155CHL Chile160ARG Argentina165URU Uruguay200UKG United Kingdom210NTH Netherlands220FRN France225SWZ Switzerland230SPN Spain232AND Andorra255GMY Germany290POL Poland310HUN Hungary325ITA Italy345YUG Yugoslavia349SLV Slovenia352CYP Cyprus355BUL Bulgaria359MLD Moldova360ROM Romania365RUS Russia369UKR Ukraine372GRG Georgia375FIN Finland380SWD Sweden385NOR Norway432MLI Mali439BFO Burkina Faso452GHA Ghana517RWA Rwanda530ETH Ethiopia551ZAM Zambia560SAF South Africa600MOR Morocco630IRN Iran640TUR Turkey645IRQ Iraq651EGY Egypt663JOR Jordan710CHN China713TAW Taiwan714HKG Hong Kong732ROK South Korea740JPN Japan750IND India800THI Thailand816DRV Vietnam820MAL Malasia850INS Indonesia900AUL Australia920NEW New Zealand\",\n",
    "                 \"2USA United States of America41HAI Haiti52TRI Trinidad and Tobago70MEX Mexico100COL Colombia130ECU Ecuador135PER Peru140BRA Brazil155CHL Chile160ARG Argentina165URU Uruguay210NTH Netherlands230SPN Spain255GMY Germany290POL Poland349SLV Slovenia352CYP Cyprus360ROM Romania365RUS Russia366EST Estonia369UKR Ukraine370BLR Belarus371ARM Armenia372GRG Georgia373AZE Azerbaijan380SWD Sweden452GHA Ghana475NIG Nigeria517RWA Rwanda552ZIM Zimbabwe560SAF South Africa600MOR Morocco615ALG Algeria616TUN Tunisia620LIB Libya640TUR Turkey645IRQ Iraq651EGY Egypt660LEB Lebanon663JOR Jordan667PSE Palestine679YEM Yemen690KUW Kuwait692BAH Bahrain694QAT Qatar703KYR Kyrgyzstan704UZB Uzbekistan705KZK Kazakhstan710CHN China713TAW Taiwan714HKG Hong Kong732ROK South Korea740JPN Japan750IND India770PAK Pakistan800THI Thailand820MAL Malasia830SIN Singapore840PHI Philippines900AUL Australia920NEW New Zeala\"]"
   ]
  },
  {
   "cell_type": "code",
   "execution_count": 20,
   "metadata": {},
   "outputs": [],
   "source": [
    "\"\"\"Creates a COUNTRY column containing 3-letter country codes in WVS wave 7\"\"\"\n",
    "wvs7['COUNTRY'] = wvs7['B_COUNTRY_ALPHA'].astype(str).str.replace(\"b|'\",\"\")"
   ]
  },
  {
   "cell_type": "code",
   "execution_count": 21,
   "metadata": {},
   "outputs": [],
   "source": [
    "\"\"\"Creates a COUNTRY column in each WVS wave 2 through 6 containing its 3-letter code\"\"\"\n",
    "#iterates through each string and each WVS in waves 2 through 6\n",
    "for string,df in zip(cow_code_strs,wvss[1:6]):\n",
    "    #creates a list of extracted COW codes from the string\n",
    "    cow_codes = re.findall('[0-9]+', string)\n",
    "    #creates a list of extracted 3-letter codes from the string\n",
    "    alpha_codes = re.findall('[A-Z][A-Z][A-Z]', string)\n",
    "    #dictionary comprehension with cow_codes as the key and alpha_codes as the value\n",
    "    cow_dict = {cow_codes[i]: alpha_codes[i] for i in range(len(cow_codes))}\n",
    "    #creates the COUNTRY column by mapping the COW column in each wave with the cow_dict created from its string\n",
    "    df['COUNTRY'] = df['COW'].astype(int).astype(str).map(cow_dict)"
   ]
  },
  {
   "cell_type": "code",
   "execution_count": 22,
   "metadata": {},
   "outputs": [],
   "source": [
    "\"\"\"Creates a COUNTRY column concatenating all the COUNTRY columns from all waves\"\"\"\n",
    "all_wvs['COUNTRY'] = pd.concat([df['COUNTRY'] for df in wvss])"
   ]
  },
  {
   "cell_type": "code",
   "execution_count": 46,
   "metadata": {},
   "outputs": [],
   "source": [
    "\"\"\"Cleans the COUNTRY column of duplicate countries with different codes\"\"\"\n",
    "all_wvs['COUNTRY'] = all_wvs['COUNTRY'].str.replace('ZIM','ZWE').str.replace('ZAF','SAF').str.replace('THI','THA').str.replace('TAW','TWN').str.replace('SWE','SWD').str.replace('ROU','ROM').str.replace('ROK','KOR').str.replace('PHL','PHI').str.replace('AUS','AUL').str.replace('NEW','NZL').str.replace('NGA','NIG').str.replace('BGD','BNG').str.replace('GUA','GTM').str.replace('DEU|GFR|GDR','GMY').str.replace('DRV','VNM').str.replace('IDN','INS').str.replace('KGZ','KYR').str.replace('KAZ','KZK').str.replace('LEB','LBN').str.replace('MAL','MYS')"
   ]
  },
  {
   "cell_type": "code",
   "execution_count": 48,
   "metadata": {},
   "outputs": [],
   "source": [
    "\"\"\"Creates a YEAR column in every WVS wave from the respective year column indicated in codebooks\"\"\"\n",
    "year_cols=['A_YEAR','V262','V260','V246','V238','V377','V237'][::-1]\n",
    "\n",
    "for df, col in zip(wvss,year_cols):\n",
    "    df['YEAR'] = df[col].astype(int)"
   ]
  },
  {
   "cell_type": "code",
   "execution_count": 49,
   "metadata": {},
   "outputs": [],
   "source": [
    "\"\"\"Concatenates all the YEAR columns and adds to all_wvs\"\"\"\n",
    "all_wvs['YEAR'] = pd.concat([df['YEAR'] for df in wvss])"
   ]
  },
  {
   "cell_type": "code",
   "execution_count": 68,
   "metadata": {},
   "outputs": [],
   "source": [
    "\"\"\"Creates a YEAR_COUNTRY column that contains both pieces of data to use as an index\"\"\"\n",
    "all_wvs['YEAR_COUNTRY'] = all_wvs['YEAR'].astype(str) + \"_\" + all_wvs['COUNTRY']"
   ]
  },
  {
   "cell_type": "code",
   "execution_count": 70,
   "metadata": {},
   "outputs": [],
   "source": [
    "\"\"\"Creates an empty Y001 column for WVS wave 1\"\"\"\n",
    "wvs1['Y001'] = np.nan"
   ]
  },
  {
   "cell_type": "code",
   "execution_count": 65,
   "metadata": {},
   "outputs": [],
   "source": [
    "\"\"\"Concatenates all Post-material 12-item index columns and adds to all_wvs\"\"\"\n",
    "all_wvs['POST-MAT_IND'] = pd.concat([df['Y001'] for df in wvss]).fillna(-5).astype(int)"
   ]
  },
  {
   "cell_type": "code",
   "execution_count": 57,
   "metadata": {},
   "outputs": [],
   "source": [
    "\"\"\"Concatenates all Autonomy index columns and adds to all_wvs\"\"\"\n",
    "all_wvs['AUTONOMY_IND'] = pd.concat([df['Y003'] for df in wvss])"
   ]
  },
  {
   "cell_type": "code",
   "execution_count": 66,
   "metadata": {},
   "outputs": [
    {
     "data": {
      "text/plain": [
       " 2    114147\n",
       " 1     89842\n",
       " 3     79296\n",
       "-2     41490\n",
       " 0     40952\n",
       " 4     27953\n",
       "-5     18586\n",
       " 5      6859\n",
       "Name: POST-MAT_IND, dtype: int64"
      ]
     },
     "execution_count": 66,
     "metadata": {},
     "output_type": "execute_result"
    }
   ],
   "source": [
    "all_wvs['POST-MAT_IND'].value_counts()"
   ]
  },
  {
   "cell_type": "code",
   "execution_count": 19,
   "metadata": {},
   "outputs": [],
   "source": [
    "wvs7['INT_DATE'] = pd.to_datetime(wvs7['J_INTDATE'], format = '%Y%m%d')"
   ]
  },
  {
   "cell_type": "code",
   "execution_count": 20,
   "metadata": {},
   "outputs": [],
   "source": [
    "wvs7 = wvs7.drop(columns=['B_COUNTRY_ALPHA', 'A_YEAR', 'J_INTDATE'])"
   ]
  },
  {
   "cell_type": "code",
   "execution_count": 25,
   "metadata": {},
   "outputs": [
    {
     "data": {
      "text/plain": [
       "COUNTRY  Y001\n",
       "AND      2.0     331\n",
       "         1.0     206\n",
       "         4.0     179\n",
       "         3.0     127\n",
       "         5.0      92\n",
       "                ... \n",
       "ZWE      1.0     330\n",
       "         3.0     240\n",
       "         0.0     179\n",
       "         4.0      55\n",
       "         5.0       5\n",
       "Name: Y001, Length: 280, dtype: int64"
      ]
     },
     "execution_count": 25,
     "metadata": {},
     "output_type": "execute_result"
    }
   ],
   "source": [
    "wvs7.groupby('COUNTRY')['Y001'].value_counts()"
   ]
  },
  {
   "cell_type": "code",
   "execution_count": null,
   "metadata": {},
   "outputs": [],
   "source": []
  }
 ],
 "metadata": {
  "kernelspec": {
   "display_name": "Python 3",
   "language": "python",
   "name": "python3"
  },
  "language_info": {
   "codemirror_mode": {
    "name": "ipython",
    "version": 3
   },
   "file_extension": ".py",
   "mimetype": "text/x-python",
   "name": "python",
   "nbconvert_exporter": "python",
   "pygments_lexer": "ipython3",
   "version": "3.7.3"
  }
 },
 "nbformat": 4,
 "nbformat_minor": 2
}
