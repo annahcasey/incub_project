{
 "cells": [
  {
   "cell_type": "markdown",
   "metadata": {},
   "source": [
    "## Data Cleaning & Preparation"
   ]
  },
  {
   "cell_type": "code",
   "execution_count": 1,
   "metadata": {},
   "outputs": [],
   "source": [
    "import numpy as np\n",
    "import pandas as pd\n",
    "import matplotlib.pyplot as plt\n",
    "import seaborn as sns\n",
    "import re"
   ]
  },
  {
   "cell_type": "code",
   "execution_count": 2,
   "metadata": {},
   "outputs": [],
   "source": [
    "#reads the abridged csv into a pandas dataframe\n",
    "wvs = pd.read_csv('Data/WVS_abridged.csv')"
   ]
  },
  {
   "cell_type": "code",
   "execution_count": 3,
   "metadata": {},
   "outputs": [],
   "source": [
    "#cuts out unnecessary columns\n",
    "wvs = wvs.iloc[:,1:-6]"
   ]
  },
  {
   "cell_type": "code",
   "execution_count": 4,
   "metadata": {},
   "outputs": [
    {
     "data": {
      "text/html": [
       "<div>\n",
       "<style scoped>\n",
       "    .dataframe tbody tr th:only-of-type {\n",
       "        vertical-align: middle;\n",
       "    }\n",
       "\n",
       "    .dataframe tbody tr th {\n",
       "        vertical-align: top;\n",
       "    }\n",
       "\n",
       "    .dataframe thead th {\n",
       "        text-align: right;\n",
       "    }\n",
       "</style>\n",
       "<table border=\"1\" class=\"dataframe\">\n",
       "  <thead>\n",
       "    <tr style=\"text-align: right;\">\n",
       "      <th></th>\n",
       "      <th>S020</th>\n",
       "      <th>S025</th>\n",
       "      <th>COW_ALPHA</th>\n",
       "      <th>Y001</th>\n",
       "      <th>Y002</th>\n",
       "      <th>Y003</th>\n",
       "      <th>Y010</th>\n",
       "      <th>Y011</th>\n",
       "      <th>Y012</th>\n",
       "      <th>Y013</th>\n",
       "      <th>...</th>\n",
       "      <th>Y021C</th>\n",
       "      <th>Y022A</th>\n",
       "      <th>Y022B</th>\n",
       "      <th>Y022C</th>\n",
       "      <th>Y023A</th>\n",
       "      <th>Y023B</th>\n",
       "      <th>Y023C</th>\n",
       "      <th>Y024A</th>\n",
       "      <th>Y024B</th>\n",
       "      <th>Y024C</th>\n",
       "    </tr>\n",
       "  </thead>\n",
       "  <tbody>\n",
       "    <tr>\n",
       "      <th>0</th>\n",
       "      <td>2018</td>\n",
       "      <td>202018</td>\n",
       "      <td>AND</td>\n",
       "      <td>0.0</td>\n",
       "      <td>1.0</td>\n",
       "      <td>0.0</td>\n",
       "      <td>0.287062</td>\n",
       "      <td>0.38258</td>\n",
       "      <td>0.666667</td>\n",
       "      <td>0.0</td>\n",
       "      <td>...</td>\n",
       "      <td>0.0</td>\n",
       "      <td>0.75</td>\n",
       "      <td>0.66</td>\n",
       "      <td>0.66</td>\n",
       "      <td>0.333333</td>\n",
       "      <td>0.111111</td>\n",
       "      <td>0.444444</td>\n",
       "      <td>0.00</td>\n",
       "      <td>0.0</td>\n",
       "      <td>0.000</td>\n",
       "    </tr>\n",
       "    <tr>\n",
       "      <th>1</th>\n",
       "      <td>2018</td>\n",
       "      <td>202018</td>\n",
       "      <td>AND</td>\n",
       "      <td>2.0</td>\n",
       "      <td>3.0</td>\n",
       "      <td>1.0</td>\n",
       "      <td>0.467525</td>\n",
       "      <td>0.22000</td>\n",
       "      <td>1.000000</td>\n",
       "      <td>0.0</td>\n",
       "      <td>...</td>\n",
       "      <td>0.0</td>\n",
       "      <td>0.75</td>\n",
       "      <td>0.66</td>\n",
       "      <td>0.66</td>\n",
       "      <td>0.888889</td>\n",
       "      <td>0.888889</td>\n",
       "      <td>0.888889</td>\n",
       "      <td>1.00</td>\n",
       "      <td>0.0</td>\n",
       "      <td>0.500</td>\n",
       "    </tr>\n",
       "    <tr>\n",
       "      <th>2</th>\n",
       "      <td>2018</td>\n",
       "      <td>202018</td>\n",
       "      <td>AND</td>\n",
       "      <td>4.0</td>\n",
       "      <td>2.0</td>\n",
       "      <td>-2.0</td>\n",
       "      <td>0.425304</td>\n",
       "      <td>0.44000</td>\n",
       "      <td>0.886667</td>\n",
       "      <td>0.0</td>\n",
       "      <td>...</td>\n",
       "      <td>1.0</td>\n",
       "      <td>0.75</td>\n",
       "      <td>0.66</td>\n",
       "      <td>0.66</td>\n",
       "      <td>1.000000</td>\n",
       "      <td>0.444444</td>\n",
       "      <td>0.555556</td>\n",
       "      <td>0.33</td>\n",
       "      <td>0.5</td>\n",
       "      <td>0.415</td>\n",
       "    </tr>\n",
       "    <tr>\n",
       "      <th>3</th>\n",
       "      <td>2018</td>\n",
       "      <td>202018</td>\n",
       "      <td>AND</td>\n",
       "      <td>2.0</td>\n",
       "      <td>2.0</td>\n",
       "      <td>0.0</td>\n",
       "      <td>0.556170</td>\n",
       "      <td>0.57458</td>\n",
       "      <td>1.000000</td>\n",
       "      <td>0.0</td>\n",
       "      <td>...</td>\n",
       "      <td>0.0</td>\n",
       "      <td>0.75</td>\n",
       "      <td>1.00</td>\n",
       "      <td>1.00</td>\n",
       "      <td>0.555556</td>\n",
       "      <td>0.333333</td>\n",
       "      <td>0.888889</td>\n",
       "      <td>0.33</td>\n",
       "      <td>0.5</td>\n",
       "      <td>0.415</td>\n",
       "    </tr>\n",
       "    <tr>\n",
       "      <th>4</th>\n",
       "      <td>2018</td>\n",
       "      <td>202018</td>\n",
       "      <td>AND</td>\n",
       "      <td>1.0</td>\n",
       "      <td>1.0</td>\n",
       "      <td>-1.0</td>\n",
       "      <td>0.458949</td>\n",
       "      <td>0.57458</td>\n",
       "      <td>0.886667</td>\n",
       "      <td>0.0</td>\n",
       "      <td>...</td>\n",
       "      <td>1.0</td>\n",
       "      <td>0.75</td>\n",
       "      <td>0.66</td>\n",
       "      <td>0.66</td>\n",
       "      <td>0.777778</td>\n",
       "      <td>0.444444</td>\n",
       "      <td>0.666667</td>\n",
       "      <td>0.00</td>\n",
       "      <td>0.5</td>\n",
       "      <td>0.250</td>\n",
       "    </tr>\n",
       "  </tbody>\n",
       "</table>\n",
       "<p>5 rows × 40 columns</p>\n",
       "</div>"
      ],
      "text/plain": [
       "   S020    S025 COW_ALPHA  Y001  Y002  Y003      Y010     Y011      Y012  \\\n",
       "0  2018  202018       AND   0.0   1.0   0.0  0.287062  0.38258  0.666667   \n",
       "1  2018  202018       AND   2.0   3.0   1.0  0.467525  0.22000  1.000000   \n",
       "2  2018  202018       AND   4.0   2.0  -2.0  0.425304  0.44000  0.886667   \n",
       "3  2018  202018       AND   2.0   2.0   0.0  0.556170  0.57458  1.000000   \n",
       "4  2018  202018       AND   1.0   1.0  -1.0  0.458949  0.57458  0.886667   \n",
       "\n",
       "   Y013  ...  Y021C  Y022A  Y022B  Y022C     Y023A     Y023B     Y023C  Y024A  \\\n",
       "0   0.0  ...    0.0   0.75   0.66   0.66  0.333333  0.111111  0.444444   0.00   \n",
       "1   0.0  ...    0.0   0.75   0.66   0.66  0.888889  0.888889  0.888889   1.00   \n",
       "2   0.0  ...    1.0   0.75   0.66   0.66  1.000000  0.444444  0.555556   0.33   \n",
       "3   0.0  ...    0.0   0.75   1.00   1.00  0.555556  0.333333  0.888889   0.33   \n",
       "4   0.0  ...    1.0   0.75   0.66   0.66  0.777778  0.444444  0.666667   0.00   \n",
       "\n",
       "   Y024B  Y024C  \n",
       "0    0.0  0.000  \n",
       "1    0.0  0.500  \n",
       "2    0.5  0.415  \n",
       "3    0.5  0.415  \n",
       "4    0.5  0.250  \n",
       "\n",
       "[5 rows x 40 columns]"
      ]
     },
     "execution_count": 4,
     "metadata": {},
     "output_type": "execute_result"
    }
   ],
   "source": [
    "wvs.head()"
   ]
  },
  {
   "cell_type": "code",
   "execution_count": 5,
   "metadata": {},
   "outputs": [],
   "source": [
    "#reads in a text file with current column names and descriptions\n",
    "with open ('columns.txt', 'r') as col_names:\n",
    "    strings=col_names.read()"
   ]
  },
  {
   "cell_type": "code",
   "execution_count": 6,
   "metadata": {},
   "outputs": [],
   "source": [
    "col_names = ['S020', 'S025', 'COW_ALPHA']\n",
    "#pulls current column names from text file\n",
    "for string in re.findall('Y[0-9][0-9][0-9]',strings):\n",
    "    if string not in col_names:\n",
    "        col_names.append(string)\n",
    "    elif string + 'A' not in col_names:\n",
    "        col_names.append(string + 'A')\n",
    "    elif string + 'B' not in col_names:\n",
    "        col_names.append(string + 'B')\n",
    "    elif string + 'C' not in col_names:\n",
    "        col_names.append(string + 'C')"
   ]
  },
  {
   "cell_type": "code",
   "execution_count": 7,
   "metadata": {},
   "outputs": [],
   "source": [
    "new_names = ['YEAR', 'YEAR_COUNTRY', 'COUNTRY', 'POSTMAT_IND12', 'POSTMAT_IND4', 'AUTONOMY_IND']\n",
    "#pulls descriptors to be used as new column names\n",
    "for string in re.findall('[A-Z][A-Z][A-Z]*',strings):\n",
    "    new_names.append(string)"
   ]
  },
  {
   "cell_type": "code",
   "execution_count": 8,
   "metadata": {},
   "outputs": [],
   "source": [
    "#creates a mapper of old column names to new ones\n",
    "col_dict = {col_names[i]:new_names[i] for i in range(0,len(col_names))}"
   ]
  },
  {
   "cell_type": "code",
   "execution_count": 9,
   "metadata": {},
   "outputs": [],
   "source": [
    "#renames the columns according to the mapper\n",
    "wvs.rename(columns = col_dict, inplace=True)\n",
    "#fixes an error with the 3-letter codes\n",
    "wvs.loc[(wvs['YEAR_COUNTRY']==8071998)|(wvs['YEAR_COUNTRY']==8072001), 'COUNTRY'] = 'MKD'"
   ]
  },
  {
   "cell_type": "code",
   "execution_count": 10,
   "metadata": {},
   "outputs": [],
   "source": [
    "#reads in the imports and exports file\n",
    "trade = pd.read_csv('Data/Exports & Imports by NAICS Commodities.csv', skiprows=3)"
   ]
  },
  {
   "cell_type": "code",
   "execution_count": 11,
   "metadata": {},
   "outputs": [],
   "source": [
    "#gets rid of extra columns\n",
    "trade = trade.iloc[:,:-1]"
   ]
  },
  {
   "cell_type": "code",
   "execution_count": 12,
   "metadata": {},
   "outputs": [],
   "source": [
    "#creates a list of regexes for each 3-letter country code\n",
    "country_regexes = []\n",
    "for country in wvs['COUNTRY'].unique():\n",
    "    letters = []\n",
    "    for letter in country:\n",
    "        letters.append(letter)\n",
    "    regex_format = '^' + letters[0] + '.*' + letters[1] + '.*' + letters[2]\n",
    "    country_regexes.append(regex_format)"
   ]
  },
  {
   "cell_type": "code",
   "execution_count": 13,
   "metadata": {},
   "outputs": [],
   "source": [
    "#applies the regexes to the Country column in trade df to make a new column matching 3-letter codes\n",
    "def make_codes(row):\n",
    "    codes = []\n",
    "    for regex,country in zip(country_regexes, wvs['COUNTRY'].unique()):\n",
    "        if re.search(regex, row['Country'], flags=re.IGNORECASE):\n",
    "            codes.append(country)\n",
    "    return codes"
   ]
  },
  {
   "cell_type": "code",
   "execution_count": 14,
   "metadata": {},
   "outputs": [],
   "source": [
    "trade['COUNTRY'] = trade.apply(make_codes,axis=1)\n",
    "#cleans up entries in new COUNTRY column\n",
    "trade['COUNTRY'] = trade.apply(lambda x: x['COUNTRY'][0] if len(x['COUNTRY'])>=1 else x['COUNTRY'], axis=1)"
   ]
  },
  {
   "cell_type": "code",
   "execution_count": 15,
   "metadata": {},
   "outputs": [],
   "source": [
    "#some hand-cleaning\n",
    "trade.loc[trade['Country']=='Burma','COUNTRY'] = 'MYA'\n",
    "trade.loc[trade['Country']=='El Salvador','COUNTRY'] = 'SAL'\n",
    "trade.loc[trade['Country']=='Korea, South','COUNTRY'] = 'ROK'\n",
    "trade.loc[trade['Country']=='Bosnia and Herzegovina','COUNTRY'] = 'BOS'\n",
    "trade.loc[trade['Country']=='Bulgaria','COUNTRY'] = 'BUL'\n",
    "trade.loc[trade['Country']=='Burkina Faso','COUNTRY'] = 'BFO'\n",
    "trade.loc[trade['Country']=='Czech Republic','COUNTRY'] = 'CZR'\n",
    "trade.loc[trade['Country']=='Indonesia','COUNTRY'] = 'INS'\n",
    "trade.loc[trade['Country']=='Macedonia','COUNTRY'] = 'MKD'\n",
    "trade.loc[trade['Country']=='Malaysia','COUNTRY'] = 'MAL'\n",
    "trade.loc[trade['Country']=='Mali','COUNTRY'] = 'MLI'\n",
    "trade.loc[trade['Country']=='Nicaragua','COUNTRY'] = 'NIC'\n",
    "trade.loc[trade['Country']=='Saudi Arabia','COUNTRY'] = 'SAU'\n",
    "trade.loc[trade['Country']=='Serbia and Montenegro (Aug 2003 - Dec 2006)','COUNTRY'] = 'SRB'\n",
    "trade.loc[trade['Country']=='Slovenia','COUNTRY'] = 'SLV'\n",
    "trade.loc[trade['Country']=='Slovakia','COUNTRY'] = 'SLO'\n",
    "trade.loc[trade['Country']=='Spain','COUNTRY'] = 'SPN'\n",
    "trade.loc[trade['Country']=='Switzerland','COUNTRY'] = 'SWZ'\n",
    "trade.loc[trade['Country']=='Uruguay','COUNTRY'] = 'URU'\n",
    "trade.loc[trade['Country']=='Uzbekistan','COUNTRY'] = 'UZB'\n",
    "trade.loc[trade['Country']=='Vietnam','COUNTRY'] = 'DRV'\n",
    "trade.loc[trade['Country']=='Gaza Strip Administered by Israel','COUNTRY'] = 'PSE'"
   ]
  },
  {
   "cell_type": "code",
   "execution_count": 16,
   "metadata": {},
   "outputs": [],
   "source": [
    "#creates a YEAR column from cleaned up Time column\n",
    "trade['YEAR'] = trade['Time'].str.replace(' through July','').astype(int)"
   ]
  },
  {
   "cell_type": "code",
   "execution_count": 17,
   "metadata": {},
   "outputs": [],
   "source": [
    "#creates a list of numeric columns in trade df\n",
    "numeric_cols = ['Total Exports Value ($US)','Balance ($US)','Customs Import Value (Gen) ($US)']"
   ]
  },
  {
   "cell_type": "code",
   "execution_count": 18,
   "metadata": {},
   "outputs": [],
   "source": [
    "#cleans up numeric columns\n",
    "for col in numeric_cols:\n",
    "    trade[col] = trade[col].str.replace(',','').astype(float)"
   ]
  },
  {
   "cell_type": "code",
   "execution_count": 19,
   "metadata": {},
   "outputs": [],
   "source": [
    "#drops the now unnecessary and messier Time and Country columns\n",
    "trade = trade.drop(columns=['Time','Country'])"
   ]
  },
  {
   "cell_type": "code",
   "execution_count": 20,
   "metadata": {},
   "outputs": [
    {
     "data": {
      "text/html": [
       "<div>\n",
       "<style scoped>\n",
       "    .dataframe tbody tr th:only-of-type {\n",
       "        vertical-align: middle;\n",
       "    }\n",
       "\n",
       "    .dataframe tbody tr th {\n",
       "        vertical-align: top;\n",
       "    }\n",
       "\n",
       "    .dataframe thead th {\n",
       "        text-align: right;\n",
       "    }\n",
       "</style>\n",
       "<table border=\"1\" class=\"dataframe\">\n",
       "  <thead>\n",
       "    <tr style=\"text-align: right;\">\n",
       "      <th></th>\n",
       "      <th>Total Exports Value ($US)</th>\n",
       "      <th>Balance ($US)</th>\n",
       "      <th>Customs Import Value (Gen) ($US)</th>\n",
       "      <th>COUNTRY</th>\n",
       "      <th>YEAR</th>\n",
       "    </tr>\n",
       "  </thead>\n",
       "  <tbody>\n",
       "    <tr>\n",
       "      <th>0</th>\n",
       "      <td>4.347971e+06</td>\n",
       "      <td>425772.0</td>\n",
       "      <td>3922199.0</td>\n",
       "      <td>ALB</td>\n",
       "      <td>2002</td>\n",
       "    </tr>\n",
       "    <tr>\n",
       "      <th>1</th>\n",
       "      <td>1.846407e+08</td>\n",
       "      <td>184555995.0</td>\n",
       "      <td>84701.0</td>\n",
       "      <td>ALG</td>\n",
       "      <td>2002</td>\n",
       "    </tr>\n",
       "    <tr>\n",
       "      <th>2</th>\n",
       "      <td>1.212885e+07</td>\n",
       "      <td>-127761270.0</td>\n",
       "      <td>139890122.0</td>\n",
       "      <td>ARG</td>\n",
       "      <td>2002</td>\n",
       "    </tr>\n",
       "    <tr>\n",
       "      <th>3</th>\n",
       "      <td>2.197494e+06</td>\n",
       "      <td>2197494.0</td>\n",
       "      <td>NaN</td>\n",
       "      <td>ARM</td>\n",
       "      <td>2002</td>\n",
       "    </tr>\n",
       "    <tr>\n",
       "      <th>4</th>\n",
       "      <td>7.470171e+07</td>\n",
       "      <td>-7503573.0</td>\n",
       "      <td>82205284.0</td>\n",
       "      <td>AUL</td>\n",
       "      <td>2002</td>\n",
       "    </tr>\n",
       "    <tr>\n",
       "      <th>...</th>\n",
       "      <td>...</td>\n",
       "      <td>...</td>\n",
       "      <td>...</td>\n",
       "      <td>...</td>\n",
       "      <td>...</td>\n",
       "    </tr>\n",
       "    <tr>\n",
       "      <th>1895</th>\n",
       "      <td>1.150643e+08</td>\n",
       "      <td>113735159.0</td>\n",
       "      <td>1329142.0</td>\n",
       "      <td>VEN</td>\n",
       "      <td>2020</td>\n",
       "    </tr>\n",
       "    <tr>\n",
       "      <th>1896</th>\n",
       "      <td>1.300591e+09</td>\n",
       "      <td>521055285.0</td>\n",
       "      <td>779536125.0</td>\n",
       "      <td>DRV</td>\n",
       "      <td>2020</td>\n",
       "    </tr>\n",
       "    <tr>\n",
       "      <th>1897</th>\n",
       "      <td>1.246832e+08</td>\n",
       "      <td>123235454.0</td>\n",
       "      <td>1447777.0</td>\n",
       "      <td>YEM</td>\n",
       "      <td>2020</td>\n",
       "    </tr>\n",
       "    <tr>\n",
       "      <th>1898</th>\n",
       "      <td>8.837500e+04</td>\n",
       "      <td>-1155842.0</td>\n",
       "      <td>1244217.0</td>\n",
       "      <td>ZAM</td>\n",
       "      <td>2020</td>\n",
       "    </tr>\n",
       "    <tr>\n",
       "      <th>1899</th>\n",
       "      <td>3.005940e+05</td>\n",
       "      <td>-5597249.0</td>\n",
       "      <td>5897843.0</td>\n",
       "      <td>ZIM</td>\n",
       "      <td>2020</td>\n",
       "    </tr>\n",
       "  </tbody>\n",
       "</table>\n",
       "<p>1900 rows × 5 columns</p>\n",
       "</div>"
      ],
      "text/plain": [
       "      Total Exports Value ($US)  Balance ($US)  \\\n",
       "0                  4.347971e+06       425772.0   \n",
       "1                  1.846407e+08    184555995.0   \n",
       "2                  1.212885e+07   -127761270.0   \n",
       "3                  2.197494e+06      2197494.0   \n",
       "4                  7.470171e+07     -7503573.0   \n",
       "...                         ...            ...   \n",
       "1895               1.150643e+08    113735159.0   \n",
       "1896               1.300591e+09    521055285.0   \n",
       "1897               1.246832e+08    123235454.0   \n",
       "1898               8.837500e+04     -1155842.0   \n",
       "1899               3.005940e+05     -5597249.0   \n",
       "\n",
       "      Customs Import Value (Gen) ($US) COUNTRY  YEAR  \n",
       "0                            3922199.0     ALB  2002  \n",
       "1                              84701.0     ALG  2002  \n",
       "2                          139890122.0     ARG  2002  \n",
       "3                                  NaN     ARM  2002  \n",
       "4                           82205284.0     AUL  2002  \n",
       "...                                ...     ...   ...  \n",
       "1895                         1329142.0     VEN  2020  \n",
       "1896                       779536125.0     DRV  2020  \n",
       "1897                         1447777.0     YEM  2020  \n",
       "1898                         1244217.0     ZAM  2020  \n",
       "1899                         5897843.0     ZIM  2020  \n",
       "\n",
       "[1900 rows x 5 columns]"
      ]
     },
     "execution_count": 20,
     "metadata": {},
     "output_type": "execute_result"
    }
   ],
   "source": [
    "trade"
   ]
  },
  {
   "cell_type": "code",
   "execution_count": 21,
   "metadata": {},
   "outputs": [],
   "source": [
    "#adds a year to our column in wvs so that when we merge with trade, we don't have future leakage\n",
    "wvs['YEAR'] = wvs['YEAR'] + 1"
   ]
  },
  {
   "cell_type": "code",
   "execution_count": 22,
   "metadata": {},
   "outputs": [],
   "source": [
    "#merges the two datasets using their COUNTRY and YEAR columns\n",
    "both = wvs.merge(trade, on=['COUNTRY','YEAR'], how='left')"
   ]
  },
  {
   "cell_type": "code",
   "execution_count": 23,
   "metadata": {},
   "outputs": [
    {
     "data": {
      "text/html": [
       "<div>\n",
       "<style scoped>\n",
       "    .dataframe tbody tr th:only-of-type {\n",
       "        vertical-align: middle;\n",
       "    }\n",
       "\n",
       "    .dataframe tbody tr th {\n",
       "        vertical-align: top;\n",
       "    }\n",
       "\n",
       "    .dataframe thead th {\n",
       "        text-align: right;\n",
       "    }\n",
       "</style>\n",
       "<table border=\"1\" class=\"dataframe\">\n",
       "  <thead>\n",
       "    <tr style=\"text-align: right;\">\n",
       "      <th></th>\n",
       "      <th>YEAR</th>\n",
       "      <th>YEAR_COUNTRY</th>\n",
       "      <th>COUNTRY</th>\n",
       "      <th>POSTMAT_IND12</th>\n",
       "      <th>POSTMAT_IND4</th>\n",
       "      <th>AUTONOMY_IND</th>\n",
       "      <th>SACSECVAL</th>\n",
       "      <th>DEFIANCE</th>\n",
       "      <th>DISBELIEF</th>\n",
       "      <th>RELATIVISM</th>\n",
       "      <th>...</th>\n",
       "      <th>CWOMEDU</th>\n",
       "      <th>AHOMOLIB</th>\n",
       "      <th>BABORTLIB</th>\n",
       "      <th>CDIVORLIB</th>\n",
       "      <th>AVOICE</th>\n",
       "      <th>BVOICE</th>\n",
       "      <th>CVOI</th>\n",
       "      <th>Total Exports Value ($US)</th>\n",
       "      <th>Balance ($US)</th>\n",
       "      <th>Customs Import Value (Gen) ($US)</th>\n",
       "    </tr>\n",
       "  </thead>\n",
       "  <tbody>\n",
       "    <tr>\n",
       "      <th>0</th>\n",
       "      <td>2019</td>\n",
       "      <td>202018</td>\n",
       "      <td>AND</td>\n",
       "      <td>0.0</td>\n",
       "      <td>1.0</td>\n",
       "      <td>0.0</td>\n",
       "      <td>0.287062</td>\n",
       "      <td>0.382580</td>\n",
       "      <td>0.666667</td>\n",
       "      <td>0.000000</td>\n",
       "      <td>...</td>\n",
       "      <td>0.66</td>\n",
       "      <td>0.333333</td>\n",
       "      <td>0.111111</td>\n",
       "      <td>0.444444</td>\n",
       "      <td>0.00</td>\n",
       "      <td>0.0</td>\n",
       "      <td>0.000</td>\n",
       "      <td>NaN</td>\n",
       "      <td>NaN</td>\n",
       "      <td>NaN</td>\n",
       "    </tr>\n",
       "    <tr>\n",
       "      <th>1</th>\n",
       "      <td>2019</td>\n",
       "      <td>202018</td>\n",
       "      <td>AND</td>\n",
       "      <td>2.0</td>\n",
       "      <td>3.0</td>\n",
       "      <td>1.0</td>\n",
       "      <td>0.467525</td>\n",
       "      <td>0.220000</td>\n",
       "      <td>1.000000</td>\n",
       "      <td>0.000000</td>\n",
       "      <td>...</td>\n",
       "      <td>0.66</td>\n",
       "      <td>0.888889</td>\n",
       "      <td>0.888889</td>\n",
       "      <td>0.888889</td>\n",
       "      <td>1.00</td>\n",
       "      <td>0.0</td>\n",
       "      <td>0.500</td>\n",
       "      <td>NaN</td>\n",
       "      <td>NaN</td>\n",
       "      <td>NaN</td>\n",
       "    </tr>\n",
       "    <tr>\n",
       "      <th>2</th>\n",
       "      <td>2019</td>\n",
       "      <td>202018</td>\n",
       "      <td>AND</td>\n",
       "      <td>4.0</td>\n",
       "      <td>2.0</td>\n",
       "      <td>-2.0</td>\n",
       "      <td>0.425304</td>\n",
       "      <td>0.440000</td>\n",
       "      <td>0.886667</td>\n",
       "      <td>0.000000</td>\n",
       "      <td>...</td>\n",
       "      <td>0.66</td>\n",
       "      <td>1.000000</td>\n",
       "      <td>0.444444</td>\n",
       "      <td>0.555556</td>\n",
       "      <td>0.33</td>\n",
       "      <td>0.5</td>\n",
       "      <td>0.415</td>\n",
       "      <td>NaN</td>\n",
       "      <td>NaN</td>\n",
       "      <td>NaN</td>\n",
       "    </tr>\n",
       "    <tr>\n",
       "      <th>3</th>\n",
       "      <td>2019</td>\n",
       "      <td>202018</td>\n",
       "      <td>AND</td>\n",
       "      <td>2.0</td>\n",
       "      <td>2.0</td>\n",
       "      <td>0.0</td>\n",
       "      <td>0.556170</td>\n",
       "      <td>0.574580</td>\n",
       "      <td>1.000000</td>\n",
       "      <td>0.000000</td>\n",
       "      <td>...</td>\n",
       "      <td>1.00</td>\n",
       "      <td>0.555556</td>\n",
       "      <td>0.333333</td>\n",
       "      <td>0.888889</td>\n",
       "      <td>0.33</td>\n",
       "      <td>0.5</td>\n",
       "      <td>0.415</td>\n",
       "      <td>NaN</td>\n",
       "      <td>NaN</td>\n",
       "      <td>NaN</td>\n",
       "    </tr>\n",
       "    <tr>\n",
       "      <th>4</th>\n",
       "      <td>2019</td>\n",
       "      <td>202018</td>\n",
       "      <td>AND</td>\n",
       "      <td>1.0</td>\n",
       "      <td>1.0</td>\n",
       "      <td>-1.0</td>\n",
       "      <td>0.458949</td>\n",
       "      <td>0.574580</td>\n",
       "      <td>0.886667</td>\n",
       "      <td>0.000000</td>\n",
       "      <td>...</td>\n",
       "      <td>0.66</td>\n",
       "      <td>0.777778</td>\n",
       "      <td>0.444444</td>\n",
       "      <td>0.666667</td>\n",
       "      <td>0.00</td>\n",
       "      <td>0.5</td>\n",
       "      <td>0.250</td>\n",
       "      <td>NaN</td>\n",
       "      <td>NaN</td>\n",
       "      <td>NaN</td>\n",
       "    </tr>\n",
       "    <tr>\n",
       "      <th>...</th>\n",
       "      <td>...</td>\n",
       "      <td>...</td>\n",
       "      <td>...</td>\n",
       "      <td>...</td>\n",
       "      <td>...</td>\n",
       "      <td>...</td>\n",
       "      <td>...</td>\n",
       "      <td>...</td>\n",
       "      <td>...</td>\n",
       "      <td>...</td>\n",
       "      <td>...</td>\n",
       "      <td>...</td>\n",
       "      <td>...</td>\n",
       "      <td>...</td>\n",
       "      <td>...</td>\n",
       "      <td>...</td>\n",
       "      <td>...</td>\n",
       "      <td>...</td>\n",
       "      <td>...</td>\n",
       "      <td>...</td>\n",
       "      <td>...</td>\n",
       "    </tr>\n",
       "    <tr>\n",
       "      <th>423943</th>\n",
       "      <td>2013</td>\n",
       "      <td>7162012</td>\n",
       "      <td>ZIM</td>\n",
       "      <td>3.0</td>\n",
       "      <td>2.0</td>\n",
       "      <td>-1.0</td>\n",
       "      <td>0.138056</td>\n",
       "      <td>0.166667</td>\n",
       "      <td>0.055556</td>\n",
       "      <td>0.000000</td>\n",
       "      <td>...</td>\n",
       "      <td>0.66</td>\n",
       "      <td>0.000000</td>\n",
       "      <td>0.000000</td>\n",
       "      <td>0.000000</td>\n",
       "      <td>0.66</td>\n",
       "      <td>1.0</td>\n",
       "      <td>0.830</td>\n",
       "      <td>134980.0</td>\n",
       "      <td>-2361913.0</td>\n",
       "      <td>2496893.0</td>\n",
       "    </tr>\n",
       "    <tr>\n",
       "      <th>423944</th>\n",
       "      <td>2013</td>\n",
       "      <td>7162012</td>\n",
       "      <td>ZIM</td>\n",
       "      <td>4.0</td>\n",
       "      <td>2.0</td>\n",
       "      <td>0.0</td>\n",
       "      <td>0.207222</td>\n",
       "      <td>0.333333</td>\n",
       "      <td>0.055556</td>\n",
       "      <td>0.000000</td>\n",
       "      <td>...</td>\n",
       "      <td>1.00</td>\n",
       "      <td>0.000000</td>\n",
       "      <td>0.000000</td>\n",
       "      <td>0.000000</td>\n",
       "      <td>0.66</td>\n",
       "      <td>0.5</td>\n",
       "      <td>0.580</td>\n",
       "      <td>134980.0</td>\n",
       "      <td>-2361913.0</td>\n",
       "      <td>2496893.0</td>\n",
       "    </tr>\n",
       "    <tr>\n",
       "      <th>423945</th>\n",
       "      <td>2013</td>\n",
       "      <td>7162012</td>\n",
       "      <td>ZIM</td>\n",
       "      <td>4.0</td>\n",
       "      <td>2.0</td>\n",
       "      <td>1.0</td>\n",
       "      <td>0.110000</td>\n",
       "      <td>0.000000</td>\n",
       "      <td>0.000000</td>\n",
       "      <td>0.000000</td>\n",
       "      <td>...</td>\n",
       "      <td>0.66</td>\n",
       "      <td>0.000000</td>\n",
       "      <td>0.000000</td>\n",
       "      <td>0.000000</td>\n",
       "      <td>0.33</td>\n",
       "      <td>1.0</td>\n",
       "      <td>0.665</td>\n",
       "      <td>134980.0</td>\n",
       "      <td>-2361913.0</td>\n",
       "      <td>2496893.0</td>\n",
       "    </tr>\n",
       "    <tr>\n",
       "      <th>423946</th>\n",
       "      <td>2013</td>\n",
       "      <td>7162012</td>\n",
       "      <td>ZIM</td>\n",
       "      <td>3.0</td>\n",
       "      <td>1.0</td>\n",
       "      <td>-1.0</td>\n",
       "      <td>0.220833</td>\n",
       "      <td>0.333333</td>\n",
       "      <td>0.000000</td>\n",
       "      <td>0.000000</td>\n",
       "      <td>...</td>\n",
       "      <td>1.00</td>\n",
       "      <td>0.000000</td>\n",
       "      <td>0.000000</td>\n",
       "      <td>0.444444</td>\n",
       "      <td>0.00</td>\n",
       "      <td>1.0</td>\n",
       "      <td>0.500</td>\n",
       "      <td>134980.0</td>\n",
       "      <td>-2361913.0</td>\n",
       "      <td>2496893.0</td>\n",
       "    </tr>\n",
       "    <tr>\n",
       "      <th>423947</th>\n",
       "      <td>2013</td>\n",
       "      <td>7162012</td>\n",
       "      <td>ZIM</td>\n",
       "      <td>2.0</td>\n",
       "      <td>1.0</td>\n",
       "      <td>1.0</td>\n",
       "      <td>0.234722</td>\n",
       "      <td>0.110000</td>\n",
       "      <td>0.055556</td>\n",
       "      <td>0.333333</td>\n",
       "      <td>...</td>\n",
       "      <td>0.66</td>\n",
       "      <td>0.000000</td>\n",
       "      <td>0.000000</td>\n",
       "      <td>0.000000</td>\n",
       "      <td>0.00</td>\n",
       "      <td>1.0</td>\n",
       "      <td>0.500</td>\n",
       "      <td>134980.0</td>\n",
       "      <td>-2361913.0</td>\n",
       "      <td>2496893.0</td>\n",
       "    </tr>\n",
       "  </tbody>\n",
       "</table>\n",
       "<p>423948 rows × 43 columns</p>\n",
       "</div>"
      ],
      "text/plain": [
       "        YEAR  YEAR_COUNTRY COUNTRY  POSTMAT_IND12  POSTMAT_IND4  AUTONOMY_IND  \\\n",
       "0       2019        202018     AND            0.0           1.0           0.0   \n",
       "1       2019        202018     AND            2.0           3.0           1.0   \n",
       "2       2019        202018     AND            4.0           2.0          -2.0   \n",
       "3       2019        202018     AND            2.0           2.0           0.0   \n",
       "4       2019        202018     AND            1.0           1.0          -1.0   \n",
       "...      ...           ...     ...            ...           ...           ...   \n",
       "423943  2013       7162012     ZIM            3.0           2.0          -1.0   \n",
       "423944  2013       7162012     ZIM            4.0           2.0           0.0   \n",
       "423945  2013       7162012     ZIM            4.0           2.0           1.0   \n",
       "423946  2013       7162012     ZIM            3.0           1.0          -1.0   \n",
       "423947  2013       7162012     ZIM            2.0           1.0           1.0   \n",
       "\n",
       "        SACSECVAL  DEFIANCE  DISBELIEF  RELATIVISM  ...  CWOMEDU  AHOMOLIB  \\\n",
       "0        0.287062  0.382580   0.666667    0.000000  ...     0.66  0.333333   \n",
       "1        0.467525  0.220000   1.000000    0.000000  ...     0.66  0.888889   \n",
       "2        0.425304  0.440000   0.886667    0.000000  ...     0.66  1.000000   \n",
       "3        0.556170  0.574580   1.000000    0.000000  ...     1.00  0.555556   \n",
       "4        0.458949  0.574580   0.886667    0.000000  ...     0.66  0.777778   \n",
       "...           ...       ...        ...         ...  ...      ...       ...   \n",
       "423943   0.138056  0.166667   0.055556    0.000000  ...     0.66  0.000000   \n",
       "423944   0.207222  0.333333   0.055556    0.000000  ...     1.00  0.000000   \n",
       "423945   0.110000  0.000000   0.000000    0.000000  ...     0.66  0.000000   \n",
       "423946   0.220833  0.333333   0.000000    0.000000  ...     1.00  0.000000   \n",
       "423947   0.234722  0.110000   0.055556    0.333333  ...     0.66  0.000000   \n",
       "\n",
       "        BABORTLIB  CDIVORLIB  AVOICE  BVOICE   CVOI  \\\n",
       "0        0.111111   0.444444    0.00     0.0  0.000   \n",
       "1        0.888889   0.888889    1.00     0.0  0.500   \n",
       "2        0.444444   0.555556    0.33     0.5  0.415   \n",
       "3        0.333333   0.888889    0.33     0.5  0.415   \n",
       "4        0.444444   0.666667    0.00     0.5  0.250   \n",
       "...           ...        ...     ...     ...    ...   \n",
       "423943   0.000000   0.000000    0.66     1.0  0.830   \n",
       "423944   0.000000   0.000000    0.66     0.5  0.580   \n",
       "423945   0.000000   0.000000    0.33     1.0  0.665   \n",
       "423946   0.000000   0.444444    0.00     1.0  0.500   \n",
       "423947   0.000000   0.000000    0.00     1.0  0.500   \n",
       "\n",
       "        Total Exports Value ($US)  Balance ($US)  \\\n",
       "0                             NaN            NaN   \n",
       "1                             NaN            NaN   \n",
       "2                             NaN            NaN   \n",
       "3                             NaN            NaN   \n",
       "4                             NaN            NaN   \n",
       "...                           ...            ...   \n",
       "423943                   134980.0     -2361913.0   \n",
       "423944                   134980.0     -2361913.0   \n",
       "423945                   134980.0     -2361913.0   \n",
       "423946                   134980.0     -2361913.0   \n",
       "423947                   134980.0     -2361913.0   \n",
       "\n",
       "        Customs Import Value (Gen) ($US)  \n",
       "0                                    NaN  \n",
       "1                                    NaN  \n",
       "2                                    NaN  \n",
       "3                                    NaN  \n",
       "4                                    NaN  \n",
       "...                                  ...  \n",
       "423943                         2496893.0  \n",
       "423944                         2496893.0  \n",
       "423945                         2496893.0  \n",
       "423946                         2496893.0  \n",
       "423947                         2496893.0  \n",
       "\n",
       "[423948 rows x 43 columns]"
      ]
     },
     "execution_count": 23,
     "metadata": {},
     "output_type": "execute_result"
    }
   ],
   "source": [
    "both"
   ]
  },
  {
   "cell_type": "code",
   "execution_count": 24,
   "metadata": {},
   "outputs": [],
   "source": [
    "#list of all the categorical columns\n",
    "cat_cols = ['POSTMAT_IND12','POSTMAT_IND4', 'AUTONOMY_IND','AAUTHORITY', 'BNATIONALISM', \n",
    "            'CDEVOUT', 'ARELIGIMP', 'BRELIGBEL','CRELIGPRAC', 'ANORM', 'BNORM', 'CNORM', \n",
    "            'ATRUSTARMY', 'BTRUSTPOLICE','CTRUSTCOURTS', 'AINDEP', 'BIMAGIN', 'CNONOBED', \n",
    "            'AWOMJOB', 'BWOMPOL','CWOMEDU','AVOICE', 'BVOICE','CVOI']"
   ]
  },
  {
   "cell_type": "code",
   "execution_count": 25,
   "metadata": {},
   "outputs": [],
   "source": [
    "#assigns the object type to the categorical columns\n",
    "both[cat_cols] = both[cat_cols].astype('object')"
   ]
  },
  {
   "cell_type": "code",
   "execution_count": 26,
   "metadata": {},
   "outputs": [],
   "source": [
    "#dummy-codes categorical and nominal variables\n",
    "both = pd.get_dummies(both, drop_first=True)"
   ]
  },
  {
   "cell_type": "code",
   "execution_count": 27,
   "metadata": {},
   "outputs": [
    {
     "name": "stdout",
     "output_type": "stream",
     "text": [
      "Columns w/ High Homogeneity:\n",
      "COUNTRY_ALG\n",
      "COUNTRY_AND\n",
      "COUNTRY_ARM\n",
      "COUNTRY_AZE\n",
      "COUNTRY_BFO\n",
      "COUNTRY_BNG\n",
      "COUNTRY_BOL\n",
      "COUNTRY_BOS\n",
      "COUNTRY_BUL\n",
      "COUNTRY_CRO\n",
      "COUNTRY_CYP\n",
      "COUNTRY_CZR\n",
      "COUNTRY_DOM\n",
      "COUNTRY_DRV\n",
      "COUNTRY_ECU\n",
      "COUNTRY_EST\n",
      "COUNTRY_ETH\n",
      "COUNTRY_FIN\n",
      "COUNTRY_FRN\n",
      "COUNTRY_GHA\n",
      "COUNTRY_GRC\n",
      "COUNTRY_GUA\n",
      "COUNTRY_HAI\n",
      "COUNTRY_HUN\n",
      "COUNTRY_ISR\n",
      "COUNTRY_ITA\n",
      "COUNTRY_KUW\n",
      "COUNTRY_KYR\n",
      "COUNTRY_KZK\n",
      "COUNTRY_LAT\n",
      "COUNTRY_LEB\n",
      "COUNTRY_LIB\n",
      "COUNTRY_LIT\n",
      "COUNTRY_MAC\n",
      "COUNTRY_MAL\n",
      "COUNTRY_MKD\n",
      "COUNTRY_MLD\n",
      "COUNTRY_MLI\n",
      "COUNTRY_MNG\n",
      "COUNTRY_MOR\n",
      "COUNTRY_MYA\n",
      "COUNTRY_NEW\n",
      "COUNTRY_NIC\n",
      "COUNTRY_NOR\n",
      "COUNTRY_NTH\n",
      "COUNTRY_POL\n",
      "COUNTRY_PRI\n",
      "COUNTRY_PSE\n",
      "COUNTRY_QAT\n",
      "COUNTRY_RWA\n",
      "COUNTRY_SAL\n",
      "COUNTRY_SAU\n",
      "COUNTRY_SIN\n",
      "COUNTRY_SLO\n",
      "COUNTRY_SLV\n",
      "COUNTRY_SWZ\n",
      "COUNTRY_TAJ\n",
      "COUNTRY_TAZ\n",
      "COUNTRY_THI\n",
      "COUNTRY_TRI\n",
      "COUNTRY_TUN\n",
      "COUNTRY_UGA\n",
      "COUNTRY_UKG\n",
      "COUNTRY_URU\n",
      "COUNTRY_UZB\n",
      "COUNTRY_VEN\n",
      "COUNTRY_YEM\n",
      "COUNTRY_ZAM\n",
      "COUNTRY_ZIM\n",
      "CRELIGPRAC_0.666666666666667\n"
     ]
    }
   ],
   "source": [
    "print('Columns w/ High Homogeneity:')\n",
    "for col in both:\n",
    "    if (both[col].value_counts(normalize=True)*100).sort_values(ascending=False).iloc[0] > 99:\n",
    "        print(col)"
   ]
  },
  {
   "cell_type": "markdown",
   "metadata": {},
   "source": [
    "Clearly the country isn't going to be very useful to us, given that the vast majority of countries contribute only 1% to the data set or less. "
   ]
  },
  {
   "cell_type": "code",
   "execution_count": 28,
   "metadata": {},
   "outputs": [
    {
     "data": {
      "text/plain": [
       "YEAR                                 0.000000\n",
       "POSTMAT_IND12_3.0                    0.000000\n",
       "POSTMAT_IND12_4.0                    0.000000\n",
       "POSTMAT_IND12_5.0                    0.000000\n",
       "POSTMAT_IND4_2.0                     0.000000\n",
       "                                      ...    \n",
       "AHOMOLIB                            10.667110\n",
       "EQUALITY                            13.467454\n",
       "Balance ($US)                       38.090992\n",
       "Total Exports Value ($US)           39.043232\n",
       "Customs Import Value (Gen) ($US)    40.927661\n",
       "Length: 194, dtype: float64"
      ]
     },
     "execution_count": 28,
     "metadata": {},
     "output_type": "execute_result"
    }
   ],
   "source": [
    "#lists the % of null values for each column in the data set\n",
    "(both.isnull().sum()/423948*100).sort_values()"
   ]
  },
  {
   "cell_type": "markdown",
   "metadata": {},
   "source": [
    "Since Total Exports Value will be our target column, we can go ahead and drop any rows that are empty for this column."
   ]
  },
  {
   "cell_type": "code",
   "execution_count": 29,
   "metadata": {},
   "outputs": [],
   "source": [
    "#drops columns with missing values for Exports\n",
    "both = both.dropna(axis=0, subset=['Total Exports Value ($US)'])"
   ]
  },
  {
   "cell_type": "code",
   "execution_count": 30,
   "metadata": {},
   "outputs": [
    {
     "data": {
      "text/plain": [
       "YEAR                  0.000000\n",
       "POSTMAT_IND12_3.0     0.000000\n",
       "POSTMAT_IND12_4.0     0.000000\n",
       "POSTMAT_IND12_5.0     0.000000\n",
       "POSTMAT_IND4_2.0      0.000000\n",
       "                       ...    \n",
       "RELATIVISM            5.892232\n",
       "CHOICE                6.457580\n",
       "BABORTLIB             6.920383\n",
       "SCEPTICISM            7.526362\n",
       "AHOMOLIB             12.304537\n",
       "Length: 194, dtype: float64"
      ]
     },
     "execution_count": 30,
     "metadata": {},
     "output_type": "execute_result"
    }
   ],
   "source": [
    "#re-lists the % missing from each column\n",
    "(both.isnull().sum()/len(both)*100).sort_values()"
   ]
  },
  {
   "cell_type": "code",
   "execution_count": 31,
   "metadata": {},
   "outputs": [],
   "source": [
    "#imputes null values with the column median\n",
    "for col in both:\n",
    "    both[col] = both[col].fillna(both[col].median())"
   ]
  },
  {
   "cell_type": "code",
   "execution_count": 32,
   "metadata": {},
   "outputs": [],
   "source": [
    "#applies min-max scaling to our columns\n",
    "for col in both:\n",
    "    both[col] = (both[col] - both[col].min()) / (both[col].max() - both[col].min())"
   ]
  },
  {
   "cell_type": "markdown",
   "metadata": {},
   "source": [
    "## Feature Selection"
   ]
  },
  {
   "cell_type": "code",
   "execution_count": 33,
   "metadata": {},
   "outputs": [
    {
     "name": "stdout",
     "output_type": "stream",
     "text": [
      "DISBELIEF: BRELIGBEL_1.0, r = 0.8028431352626075\n",
      "RELATIVISM: ANORM_1.0, r = 0.798827805565915\n",
      "RELATIVISM: BNORM_1.0, r = 0.8451701660354958\n",
      "RELATIVISM: CNORM_1.0, r = 0.8143553259240756\n",
      "CHOICE: AHOMOLIB, r = 0.8040143168285806\n",
      "CHOICE: BABORTLIB, r = 0.8330386152679105\n",
      "CHOICE: CDIVORLIB, r = 0.8382752316615014\n",
      "AHOMOLIB: CHOICE, r = 0.8040143168285806\n",
      "BABORTLIB: CHOICE, r = 0.8330386152679105\n",
      "CDIVORLIB: CHOICE, r = 0.8382752316615013\n",
      "Total Exports Value ($US): Balance ($US), r = 0.8127806694299458\n",
      "Balance ($US): Total Exports Value ($US), r = 0.8127806694299458\n",
      "Balance ($US): COUNTRY_CHN, r = 0.7757478089471198\n",
      "Customs Import Value (Gen) ($US): COUNTRY_MEX, r = 0.8595020878539458\n",
      "COUNTRY_CHN: Balance ($US), r = 0.7757478089471198\n",
      "COUNTRY_MEX: Customs Import Value (Gen) ($US), r = 0.8595020878539458\n",
      "POSTMAT_IND4_3.0: AVOICE_1.0, r = 0.9999999999999998\n",
      "BRELIGBEL_1.0: DISBELIEF, r = 0.8028431352626074\n",
      "ANORM_1.0: RELATIVISM, r = 0.798827805565915\n",
      "BNORM_1.0: RELATIVISM, r = 0.8451701660354958\n",
      "CNORM_1.0: RELATIVISM, r = 0.8143553259240754\n",
      "AVOICE_1.0: POSTMAT_IND4_3.0, r = 0.9999999999999998\n"
     ]
    }
   ],
   "source": [
    "#returns any highly correlated columns so we can determine if we have overlapping info\n",
    "for col in both:\n",
    "    for col2 in both:\n",
    "        if col != col2:\n",
    "            if abs(both[col].corr(both[col2])) >= 0.75:\n",
    "                print(col +': '+ col2 + \", r = \" + str(both[col].corr(both[col2])))"
   ]
  },
  {
   "cell_type": "markdown",
   "metadata": {},
   "source": [
    "Looks like we have a lot of overlap between some variables. We would expect overlap, since some of the variables are indexes calculated from other variables. For example, RELATIVISM is an index calculated from A, B, and CNORM. For our final model, we'll want to either use RELATIVISM or A, B, and CNORM, but not both. We can eliminate the lesser of the overlapping variables through univariate analysis. "
   ]
  },
  {
   "cell_type": "code",
   "execution_count": 34,
   "metadata": {},
   "outputs": [],
   "source": [
    "from sklearn.feature_selection import mutual_info_regression"
   ]
  },
  {
   "cell_type": "code",
   "execution_count": 35,
   "metadata": {},
   "outputs": [],
   "source": [
    "#list of all possible features\n",
    "features = ['SACSECVAL','DEFIANCE','DISBELIEF','RELATIVISM','SCEPTICISM',\n",
    "            'RESEMAVAL','AUTONOMY','EQUALITY','CHOICE','VOICE','AHOMOLIB',\n",
    "            'BABORTLIB','CDIVORLIB','POSTMAT_IND12_1.0','POSTMAT_IND12_2.0',\n",
    "            'POSTMAT_IND12_3.0','POSTMAT_IND12_4.0','POSTMAT_IND12_5.0',\n",
    "            'POSTMAT_IND4_2.0','POSTMAT_IND4_3.0','AUTONOMY_IND_-1.0',\n",
    "            'AUTONOMY_IND_0.0','AUTONOMY_IND_1.0','AUTONOMY_IND_2.0',\n",
    "            'AAUTHORITY_0.5','AAUTHORITY_1.0','BNATIONALISM_0.33',\n",
    "            'BNATIONALISM_0.66','BNATIONALISM_1.0','CDEVOUT_0.33',\n",
    "            'CDEVOUT_0.66','CDEVOUT_1.0','ARELIGIMP_0.33','ARELIGIMP_0.66',\n",
    "            'ARELIGIMP_1.0','BRELIGBEL_1.0','CRELIGPRAC_0.166666666666667',\n",
    "            'CRELIGPRAC_0.166667','CRELIGPRAC_0.333333',\n",
    "            'CRELIGPRAC_0.33333333333333304','CRELIGPRAC_0.5',\n",
    "            'CRELIGPRAC_0.666666666666667','CRELIGPRAC_0.666667',\n",
    "            'CRELIGPRAC_0.833333','CRELIGPRAC_0.833333333333333',\n",
    "            'CRELIGPRAC_1.0','ANORM_1.0','BNORM_1.0','CNORM_1.0',\n",
    "            'ATRUSTARMY_0.33','ATRUSTARMY_0.66','ATRUSTARMY_1.0',\n",
    "            'BTRUSTPOLICE_0.33','BTRUSTPOLICE_0.66','BTRUSTPOLICE_1.0',\n",
    "            'CTRUSTCOURTS_0.33','CTRUSTCOURTS_0.66','CTRUSTCOURTS_1.0',\n",
    "            'AINDEP_1.0','BIMAGIN_1.0','CNONOBED_1.0','AWOMJOB_0.25',\n",
    "            'AWOMJOB_0.5','AWOMJOB_0.75','AWOMJOB_1.0','BWOMPOL_0.33',\n",
    "            'BWOMPOL_0.66','BWOMPOL_1.0','CWOMEDU_0.33','CWOMEDU_0.66',\n",
    "            'CWOMEDU_1.0','AVOICE_0.33','AVOICE_0.66','AVOICE_1.0',\n",
    "            'BVOICE_0.5','BVOICE_1.0','CVOI_0.165','CVOI_0.25','CVOI_0.33',\n",
    "            'CVOI_0.415','CVOI_0.5','CVOI_0.58','CVOI_0.665','CVOI_0.75',\n",
    "            'CVOI_0.83','CVOI_1.0']"
   ]
  },
  {
   "cell_type": "code",
   "execution_count": 36,
   "metadata": {},
   "outputs": [],
   "source": [
    "# our regression target\n",
    "target = 'Total Exports Value ($US)'"
   ]
  },
  {
   "cell_type": "code",
   "execution_count": 37,
   "metadata": {},
   "outputs": [],
   "source": [
    "#pulls random samples from our dataset for speed, assigns our X and y variables and indicates which are discrete\n",
    "test = both.sample(frac = 0.4, random_state=0)\n",
    "sample = both.drop(test.index).sample(30000, random_state=1)\n",
    "X = sample[features]\n",
    "y = sample[target]\n",
    "discrete = [i for i in range(13,len(features))]"
   ]
  },
  {
   "cell_type": "code",
   "execution_count": 38,
   "metadata": {},
   "outputs": [],
   "source": [
    "#runs a mutual_info_regression on each of our features using the sample\n",
    "mir = mutual_info_regression(X, y, discrete_features=discrete)"
   ]
  },
  {
   "cell_type": "code",
   "execution_count": 39,
   "metadata": {},
   "outputs": [],
   "source": [
    "#creates a series linking the feature to its mutual info score\n",
    "mir_scores = pd.Series({features[i]:mir[i] for i in range(len(features))})"
   ]
  },
  {
   "cell_type": "code",
   "execution_count": 40,
   "metadata": {},
   "outputs": [
    {
     "data": {
      "text/plain": [
       "BNORM_1.0                         0.075435\n",
       "CRELIGPRAC_0.166666666666667      0.075179\n",
       "AINDEP_1.0                        0.069564\n",
       "CTRUSTCOURTS_1.0                  0.063477\n",
       "CNORM_1.0                         0.058417\n",
       "BNATIONALISM_0.33                 0.056397\n",
       "AUTONOMY_IND_2.0                  0.053326\n",
       "BTRUSTPOLICE_0.33                 0.051972\n",
       "AUTONOMY_IND_-1.0                 0.051125\n",
       "ATRUSTARMY_0.66                   0.050015\n",
       "CDEVOUT_0.33                      0.049421\n",
       "CWOMEDU_1.0                       0.047748\n",
       "ARELIGIMP_0.33                    0.047343\n",
       "BTRUSTPOLICE_0.66                 0.046414\n",
       "BTRUSTPOLICE_1.0                  0.045697\n",
       "BWOMPOL_1.0                       0.045519\n",
       "CDEVOUT_0.66                      0.043844\n",
       "ATRUSTARMY_0.33                   0.043266\n",
       "BWOMPOL_0.66                      0.043188\n",
       "BVOICE_1.0                        0.042823\n",
       "CRELIGPRAC_0.833333333333333      0.042646\n",
       "AAUTHORITY_0.5                    0.042624\n",
       "CRELIGPRAC_0.5                    0.042438\n",
       "CRELIGPRAC_0.33333333333333304    0.041134\n",
       "CRELIGPRAC_0.333333               0.038745\n",
       "BIMAGIN_1.0                       0.037928\n",
       "AUTONOMY_IND_1.0                  0.036795\n",
       "CRELIGPRAC_0.833333               0.036647\n",
       "ATRUSTARMY_1.0                    0.035736\n",
       "BVOICE_0.5                        0.035191\n",
       "CWOMEDU_0.66                      0.033478\n",
       "AWOMJOB_0.5                       0.031643\n",
       "BNATIONALISM_0.66                 0.030004\n",
       "BWOMPOL_0.33                      0.028845\n",
       "POSTMAT_IND4_2.0                  0.028458\n",
       "AUTONOMY_IND_0.0                  0.026767\n",
       "POSTMAT_IND4_3.0                  0.025408\n",
       "AVOICE_1.0                        0.025408\n",
       "POSTMAT_IND12_3.0                 0.025293\n",
       "CRELIGPRAC_0.666667               0.024944\n",
       "CVOI_0.165                        0.024656\n",
       "CWOMEDU_0.33                      0.024287\n",
       "POSTMAT_IND12_2.0                 0.024259\n",
       "POSTMAT_IND12_1.0                 0.022497\n",
       "AVOICE_0.33                       0.018918\n",
       "POSTMAT_IND12_4.0                 0.016964\n",
       "CVOI_1.0                          0.016803\n",
       "CRELIGPRAC_0.666666666666667      0.016430\n",
       "AVOICE_0.66                       0.015262\n",
       "CVOI_0.58                         0.014921\n",
       "CDEVOUT_1.0                       0.013866\n",
       "CVOI_0.75                         0.013085\n",
       "CVOI_0.415                        0.013022\n",
       "CVOI_0.83                         0.012135\n",
       "CVOI_0.25                         0.011732\n",
       "CVOI_0.665                        0.011502\n",
       "POSTMAT_IND12_5.0                 0.009655\n",
       "BNATIONALISM_1.0                  0.009326\n",
       "CVOI_0.5                          0.007248\n",
       "CVOI_0.33                         0.006835\n",
       "dtype: float64"
      ]
     },
     "execution_count": 40,
     "metadata": {},
     "output_type": "execute_result"
    }
   ],
   "source": [
    "#list of worst performing features\n",
    "mir_scores.sort_values(ascending=False).tail(60)"
   ]
  },
  {
   "cell_type": "code",
   "execution_count": 41,
   "metadata": {},
   "outputs": [
    {
     "data": {
      "text/plain": [
       "CVOI_0.33      0.006835\n",
       "CVOI_0.5       0.007248\n",
       "CVOI_0.665     0.011502\n",
       "CVOI_0.25      0.011732\n",
       "CVOI_0.83      0.012135\n",
       "CVOI_0.415     0.013022\n",
       "CVOI_0.75      0.013085\n",
       "CVOI_0.58      0.014921\n",
       "AVOICE_0.66    0.015262\n",
       "CVOI_1.0       0.016803\n",
       "AVOICE_0.33    0.018918\n",
       "CVOI_0.165     0.024656\n",
       "AVOICE_1.0     0.025408\n",
       "BVOICE_0.5     0.035191\n",
       "BVOICE_1.0     0.042823\n",
       "VOICE          0.274854\n",
       "dtype: float64"
      ]
     },
     "execution_count": 41,
     "metadata": {},
     "output_type": "execute_result"
    }
   ],
   "source": [
    "#starting from the bottom, we want to check which of our VOICE features should stay\n",
    "mir_scores[mir_scores.index.str.contains('[ABC]VOI|VOI')].sort_values()"
   ]
  },
  {
   "cell_type": "markdown",
   "metadata": {},
   "source": [
    "The variable VOICE, which performed relatively well, was a much better predicter than its categorical subindices. We'll drop those."
   ]
  },
  {
   "cell_type": "code",
   "execution_count": 42,
   "metadata": {},
   "outputs": [],
   "source": [
    "#drops the VOICE subcategories\n",
    "for col in mir_scores.index[mir_scores.index.str.contains('[ABC]VOI')].to_list():\n",
    "    features.remove(col)"
   ]
  },
  {
   "cell_type": "code",
   "execution_count": 43,
   "metadata": {},
   "outputs": [
    {
     "name": "stderr",
     "output_type": "stream",
     "text": [
      "/home/annahcasey/miniconda3/lib/python3.7/site-packages/pandas/core/strings.py:2001: UserWarning: This pattern has match groups. To actually get the groups, use str.extract.\n",
      "  return func(self, *args, **kwargs)\n"
     ]
    },
    {
     "data": {
      "text/plain": [
       "BNATIONALISM_1.0     0.009326\n",
       "CDEVOUT_1.0          0.013866\n",
       "BNATIONALISM_0.66    0.030004\n",
       "AAUTHORITY_0.5       0.042624\n",
       "CDEVOUT_0.66         0.043844\n",
       "CDEVOUT_0.33         0.049421\n",
       "BNATIONALISM_0.33    0.056397\n",
       "AAUTHORITY_1.0       0.082652\n",
       "DEFIANCE             0.598708\n",
       "dtype: float64"
      ]
     },
     "execution_count": 43,
     "metadata": {},
     "output_type": "execute_result"
    }
   ],
   "source": [
    "#checks which of the DEFIANCE variables should stay\n",
    "mir_scores[mir_scores.index.str.contains('([ABC]AUTHORITY|NATIONALISM|DEVOUT)|DEFIANCE')].sort_values()"
   ]
  },
  {
   "cell_type": "markdown",
   "metadata": {},
   "source": [
    "The same can be said of DEFIANCE, which performed significantly better than any of its subcategories."
   ]
  },
  {
   "cell_type": "code",
   "execution_count": 44,
   "metadata": {},
   "outputs": [],
   "source": [
    "#drops the DEFIANCE subcategories\n",
    "for col in mir_scores.index[mir_scores.index.str.contains('[ABC]AUTHORITY|NATIONALISM|DEVOUT')].to_list():\n",
    "    features.remove(col)"
   ]
  },
  {
   "cell_type": "code",
   "execution_count": 45,
   "metadata": {},
   "outputs": [
    {
     "data": {
      "text/plain": [
       "POSTMAT_IND12_5.0    0.009655\n",
       "POSTMAT_IND12_4.0    0.016964\n",
       "POSTMAT_IND12_1.0    0.022497\n",
       "POSTMAT_IND12_2.0    0.024259\n",
       "POSTMAT_IND12_3.0    0.025293\n",
       "POSTMAT_IND4_3.0     0.025408\n",
       "POSTMAT_IND4_2.0     0.028458\n",
       "dtype: float64"
      ]
     },
     "execution_count": 45,
     "metadata": {},
     "output_type": "execute_result"
    }
   ],
   "source": [
    "#checks the two POSTMAT indices to see which performed better\n",
    "mir_scores[mir_scores.index.str.contains('POSTMAT')].sort_values()"
   ]
  },
  {
   "cell_type": "code",
   "execution_count": 46,
   "metadata": {},
   "outputs": [],
   "source": [
    "#drops the 4-item POSTMAT index because it performed less well\n",
    "for col in mir_scores.index[mir_scores.index.str.contains('POSTMAT_IND4')].to_list():\n",
    "    features.remove(col)"
   ]
  },
  {
   "cell_type": "code",
   "execution_count": 47,
   "metadata": {},
   "outputs": [
    {
     "data": {
      "text/plain": [
       "CRELIGPRAC_0.666666666666667      0.016430\n",
       "CRELIGPRAC_0.666667               0.024944\n",
       "CRELIGPRAC_0.833333               0.036647\n",
       "CRELIGPRAC_0.333333               0.038745\n",
       "CRELIGPRAC_0.33333333333333304    0.041134\n",
       "CRELIGPRAC_0.5                    0.042438\n",
       "CRELIGPRAC_0.833333333333333      0.042646\n",
       "ARELIGIMP_0.33                    0.047343\n",
       "CRELIGPRAC_0.166666666666667      0.075179\n",
       "CRELIGPRAC_0.166667               0.077698\n",
       "ARELIGIMP_0.66                    0.078663\n",
       "ARELIGIMP_1.0                     0.084588\n",
       "CRELIGPRAC_1.0                    0.108118\n",
       "BRELIGBEL_1.0                     0.125716\n",
       "DISBELIEF                         1.026342\n",
       "dtype: float64"
      ]
     },
     "execution_count": 47,
     "metadata": {},
     "output_type": "execute_result"
    }
   ],
   "source": [
    "#checks DISBELIEF and its subcategories for performance\n",
    "mir_scores[mir_scores.index.str.contains('([ABC]RELIG)|DISBELIEF')].sort_values()"
   ]
  },
  {
   "cell_type": "code",
   "execution_count": 48,
   "metadata": {},
   "outputs": [],
   "source": [
    "#drops the poorer-performing subcategories of DISBELIEF\n",
    "for col in mir_scores.index[mir_scores.index.str.contains('[ABC]RELIG')].to_list():\n",
    "    features.remove(col)"
   ]
  },
  {
   "cell_type": "code",
   "execution_count": 49,
   "metadata": {},
   "outputs": [
    {
     "data": {
      "text/plain": [
       "CWOMEDU_0.33    0.024287\n",
       "BWOMPOL_0.33    0.028845\n",
       "AWOMJOB_0.5     0.031643\n",
       "CWOMEDU_0.66    0.033478\n",
       "BWOMPOL_0.66    0.043188\n",
       "BWOMPOL_1.0     0.045519\n",
       "CWOMEDU_1.0     0.047748\n",
       "AWOMJOB_0.25    0.088343\n",
       "AWOMJOB_0.75    0.114408\n",
       "AWOMJOB_1.0     0.134779\n",
       "EQUALITY        0.657597\n",
       "dtype: float64"
      ]
     },
     "execution_count": 49,
     "metadata": {},
     "output_type": "execute_result"
    }
   ],
   "source": [
    "#checks EQUALITY and its subcategories\n",
    "mir_scores[mir_scores.index.str.contains('([ABC]WOM)|EQUA')].sort_values()"
   ]
  },
  {
   "cell_type": "code",
   "execution_count": 50,
   "metadata": {},
   "outputs": [],
   "source": [
    "#drops the EQUALITY subcategories for poor performance\n",
    "for col in mir_scores.index[mir_scores.index.str.contains('[ABC]WOM')].to_list():\n",
    "    features.remove(col)"
   ]
  },
  {
   "cell_type": "code",
   "execution_count": 51,
   "metadata": {},
   "outputs": [
    {
     "data": {
      "text/plain": [
       "ATRUSTARMY_1.0       0.035736\n",
       "ATRUSTARMY_0.33      0.043266\n",
       "BTRUSTPOLICE_1.0     0.045697\n",
       "BTRUSTPOLICE_0.66    0.046414\n",
       "ATRUSTARMY_0.66      0.050015\n",
       "BTRUSTPOLICE_0.33    0.051972\n",
       "CTRUSTCOURTS_1.0     0.063477\n",
       "CTRUSTCOURTS_0.66    0.080160\n",
       "CTRUSTCOURTS_0.33    0.101572\n",
       "SCEPTICISM           0.716196\n",
       "dtype: float64"
      ]
     },
     "execution_count": 51,
     "metadata": {},
     "output_type": "execute_result"
    }
   ],
   "source": [
    "#checks SCEPTICISM and its subcategories\n",
    "mir_scores[mir_scores.index.str.contains('([ABC]TRUST)|SCEPT')].sort_values()"
   ]
  },
  {
   "cell_type": "code",
   "execution_count": 52,
   "metadata": {},
   "outputs": [],
   "source": [
    "#drops the SCEPTICISM subcategories for poor performance\n",
    "for col in mir_scores.index[mir_scores.index.str.contains('[ABC]TRUST')].to_list():\n",
    "    features.remove(col)"
   ]
  },
  {
   "cell_type": "code",
   "execution_count": 53,
   "metadata": {},
   "outputs": [
    {
     "data": {
      "text/plain": [
       "AUTONOMY_IND_0.0     0.026767\n",
       "AUTONOMY_IND_1.0     0.036795\n",
       "BIMAGIN_1.0          0.037928\n",
       "AUTONOMY_IND_-1.0    0.051125\n",
       "AUTONOMY_IND_2.0     0.053326\n",
       "AINDEP_1.0           0.069564\n",
       "CNONOBED_1.0         0.090400\n",
       "AUTONOMY             0.516089\n",
       "dtype: float64"
      ]
     },
     "execution_count": 53,
     "metadata": {},
     "output_type": "execute_result"
    }
   ],
   "source": [
    "#checks AUTONOMY and its subcategories\n",
    "mir_scores[mir_scores.index.str.contains('([ABC]IND|IMA|NONO)|AUTO')].sort_values()"
   ]
  },
  {
   "cell_type": "code",
   "execution_count": 54,
   "metadata": {},
   "outputs": [],
   "source": [
    "#drops the AUTONOMY subcategories for poor performance\n",
    "for col in mir_scores.index[mir_scores.index.str.contains('([ABC]IND|IMA|NONO)|AUTONOMY_')].to_list():\n",
    "    features.remove(col)"
   ]
  },
  {
   "cell_type": "code",
   "execution_count": 55,
   "metadata": {},
   "outputs": [
    {
     "data": {
      "text/plain": [
       "CNORM_1.0     0.058417\n",
       "BNORM_1.0     0.075435\n",
       "ANORM_1.0     0.094932\n",
       "RELATIVISM    0.473951\n",
       "dtype: float64"
      ]
     },
     "execution_count": 55,
     "metadata": {},
     "output_type": "execute_result"
    }
   ],
   "source": [
    "#checks RELATIVISM and its subcategories\n",
    "mir_scores[mir_scores.index.str.contains('[ABC]NORM|RELA')].sort_values()"
   ]
  },
  {
   "cell_type": "code",
   "execution_count": 56,
   "metadata": {},
   "outputs": [],
   "source": [
    "#drops the RELATIVISM subcategories for poor performance\n",
    "for col in mir_scores.index[mir_scores.index.str.contains('[ABC]NORM')].to_list():\n",
    "    features.remove(col)"
   ]
  },
  {
   "cell_type": "code",
   "execution_count": 57,
   "metadata": {},
   "outputs": [
    {
     "data": {
      "text/plain": [
       "BABORTLIB    0.384441\n",
       "AHOMOLIB     0.431866\n",
       "CDIVORLIB    0.482930\n",
       "CHOICE       0.743471\n",
       "dtype: float64"
      ]
     },
     "execution_count": 57,
     "metadata": {},
     "output_type": "execute_result"
    }
   ],
   "source": [
    "#checks CHOICE and its subcategories\n",
    "mir_scores[mir_scores.index.str.contains('LIB|CHOICE')].sort_values()"
   ]
  },
  {
   "cell_type": "markdown",
   "metadata": {},
   "source": [
    "This is the only case where the subcategories performed almost as well as the index. We'll drop the subcategories for now, but it might be worth trying them in the model later. "
   ]
  },
  {
   "cell_type": "code",
   "execution_count": 58,
   "metadata": {},
   "outputs": [],
   "source": [
    "#drops the CHOICE subcategories for poor performance\n",
    "for col in mir_scores.index[mir_scores.index.str.contains('LIB')].to_list():\n",
    "    features.remove(col)"
   ]
  },
  {
   "cell_type": "code",
   "execution_count": 59,
   "metadata": {},
   "outputs": [
    {
     "data": {
      "text/plain": [
       "['SACSECVAL',\n",
       " 'DEFIANCE',\n",
       " 'DISBELIEF',\n",
       " 'RELATIVISM',\n",
       " 'SCEPTICISM',\n",
       " 'RESEMAVAL',\n",
       " 'AUTONOMY',\n",
       " 'EQUALITY',\n",
       " 'CHOICE',\n",
       " 'VOICE',\n",
       " 'POSTMAT_IND12_1.0',\n",
       " 'POSTMAT_IND12_2.0',\n",
       " 'POSTMAT_IND12_3.0',\n",
       " 'POSTMAT_IND12_4.0',\n",
       " 'POSTMAT_IND12_5.0']"
      ]
     },
     "execution_count": 59,
     "metadata": {},
     "output_type": "execute_result"
    }
   ],
   "source": [
    "#our selected features\n",
    "features"
   ]
  },
  {
   "cell_type": "code",
   "execution_count": 60,
   "metadata": {},
   "outputs": [],
   "source": [
    "#double-checks our features for overlap now that we've dropped similar categories\n",
    "for col in features:\n",
    "    for col2 in features:\n",
    "        if col != col2:\n",
    "            if abs(both[col].corr(both[col2])) >= 0.75:\n",
    "                print(col +': '+ col2 + \", r = \" + str(both[col].corr(both[col2])))"
   ]
  },
  {
   "cell_type": "markdown",
   "metadata": {},
   "source": [
    "No more glaring overlap! Now, we can do one final step of cross-validated recursive feature selection to make sure we've got our best combo of features. "
   ]
  },
  {
   "cell_type": "code",
   "execution_count": 61,
   "metadata": {},
   "outputs": [],
   "source": [
    "from sklearn.feature_selection import RFECV\n",
    "from sklearn.linear_model import LinearRegression"
   ]
  },
  {
   "cell_type": "code",
   "execution_count": 62,
   "metadata": {},
   "outputs": [
    {
     "data": {
      "text/plain": [
       "RFECV(estimator=LinearRegression(), scoring='r2')"
      ]
     },
     "execution_count": 62,
     "metadata": {},
     "output_type": "execute_result"
    }
   ],
   "source": [
    "lr = LinearRegression()\n",
    "rfecv = RFECV(estimator = lr, scoring='r2')\n",
    "sample = both.drop(test.index).sample(30000, random_state=2)\n",
    "X = sample[features]\n",
    "y = sample[target]\n",
    "rfecv.fit(X,y)"
   ]
  },
  {
   "cell_type": "code",
   "execution_count": 63,
   "metadata": {},
   "outputs": [
    {
     "data": {
      "text/plain": [
       "array([[0.15228927, 0.        , 0.50591716, ..., 0.        , 0.        ,\n",
       "        0.        ],\n",
       "       [0.70512219, 0.50032   , 0.98619329, ..., 0.        , 0.        ,\n",
       "        1.        ],\n",
       "       [0.2065361 , 0.33333333, 0.16436555, ..., 0.        , 0.        ,\n",
       "        0.        ],\n",
       "       ...,\n",
       "       [0.06237589, 0.11      , 0.07692308, ..., 1.        , 0.        ,\n",
       "        0.        ],\n",
       "       [0.52286579, 0.269     , 0.16327022, ..., 0.        , 0.        ,\n",
       "        0.        ],\n",
       "       [0.22389906, 0.276667  , 0.27284714, ..., 0.        , 0.        ,\n",
       "        0.        ]])"
      ]
     },
     "execution_count": 63,
     "metadata": {},
     "output_type": "execute_result"
    }
   ],
   "source": [
    "rfecv.transform(X)"
   ]
  },
  {
   "cell_type": "code",
   "execution_count": 64,
   "metadata": {},
   "outputs": [],
   "source": [
    "for i in range(len(features)):\n",
    "    if list(rfecv.ranking_)[i] != 1:\n",
    "        features.remove(features[i])"
   ]
  },
  {
   "cell_type": "code",
   "execution_count": 65,
   "metadata": {},
   "outputs": [
    {
     "data": {
      "image/png": "[encoded data removed]",
      "text/plain": [
       "<Figure size 432x288 with 1 Axes>"
      ]
     },
     "metadata": {
      "needs_background": "light"
     },
     "output_type": "display_data"
    }
   ],
   "source": [
    "plt.figure()\n",
    "plt.xlabel(\"Number of features selected\")\n",
    "plt.ylabel(\"Cross validation score (nb of correct classifications)\")\n",
    "plt.plot(range(1, len(rfecv.grid_scores_) + 1), rfecv.grid_scores_)\n",
    "plt.show()"
   ]
  },
  {
   "cell_type": "markdown",
   "metadata": {},
   "source": [
    "## Model"
   ]
  },
  {
   "cell_type": "code",
   "execution_count": 66,
   "metadata": {},
   "outputs": [],
   "source": [
    "from sklearn.metrics import mean_squared_error, r2_score\n",
    "lr = LinearRegression()\n",
    "train = both.drop(test.index)\n",
    "X_train = train[features]\n",
    "y_train = train[target]\n",
    "X_test = test[features]\n",
    "y_test = test[target]"
   ]
  },
  {
   "cell_type": "code",
   "execution_count": 67,
   "metadata": {},
   "outputs": [
    {
     "data": {
      "text/plain": [
       "LinearRegression()"
      ]
     },
     "execution_count": 67,
     "metadata": {},
     "output_type": "execute_result"
    }
   ],
   "source": [
    "lr.fit(X_train, y_train)"
   ]
  },
  {
   "cell_type": "code",
   "execution_count": 68,
   "metadata": {},
   "outputs": [],
   "source": [
    "pred = lr.predict(X_test)"
   ]
  },
  {
   "cell_type": "code",
   "execution_count": 69,
   "metadata": {},
   "outputs": [
    {
     "name": "stdout",
     "output_type": "stream",
     "text": [
      "Coefficients: \n",
      " [-0.00341831  0.0672601   0.10925107 -0.00268294 -0.04680839 -0.05255321\n",
      "  0.04193538  0.00958404 -0.03751915 -0.00206167  0.00333444 -0.00246409\n",
      " -0.00124973 -0.00166488 -0.01514879]\n",
      "Mean squared error: 0.02\n",
      "Coefficient of determination: 0.09\n"
     ]
    }
   ],
   "source": [
    "print('Coefficients: \\n', lr.coef_)\n",
    "print('Mean squared error: %.2f'\n",
    "      % mean_squared_error(y_test, pred))\n",
    "print('Coefficient of determination: %.2f'\n",
    "      % r2_score(y_test, pred))"
   ]
  },
  {
   "cell_type": "code",
   "execution_count": 76,
   "metadata": {},
   "outputs": [],
   "source": [
    "from sklearn.ensemble import RandomForestRegressor\n",
    "from sklearn.model_selection import RandomizedSearchCV\n",
    "\n",
    "train = both.drop(test.index).sample(10000)\n",
    "X_train = train[features]\n",
    "y_train = train[target]\n",
    "X_test = test[features]\n",
    "y_test = test[target]\n",
    "\n",
    "n_estimators = [int(x) for x in np.linspace(start = 5, stop = 200, num = 10)]\n",
    "\n",
    "max_features = ['auto', 'sqrt']\n",
    "\n",
    "max_depth = [int(x) for x in np.linspace(10, 85, num = 5)]\n",
    "max_depth.append(None)\n",
    "\n",
    "min_samples_split = [5, 10]\n",
    "\n",
    "min_samples_leaf = [1, 5]\n",
    "\n",
    "bootstrap = [True, False]\n",
    "\n",
    "random_grid = {'n_estimators': n_estimators,\n",
    "               'max_features': max_features,\n",
    "               'max_depth': max_depth,\n",
    "               'min_samples_split': min_samples_split,\n",
    "               'min_samples_leaf': min_samples_leaf,\n",
    "               'bootstrap': bootstrap}"
   ]
  },
  {
   "cell_type": "code",
   "execution_count": 85,
   "metadata": {},
   "outputs": [
    {
     "name": "stdout",
     "output_type": "stream",
     "text": [
      "Fitting 3 folds for each of 100 candidates, totalling 300 fits\n"
     ]
    },
    {
     "name": "stderr",
     "output_type": "stream",
     "text": [
      "[Parallel(n_jobs=-1)]: Using backend LokyBackend with 4 concurrent workers.\n",
      "[Parallel(n_jobs=-1)]: Done  33 tasks      | elapsed:   39.2s\n",
      "[Parallel(n_jobs=-1)]: Done 154 tasks      | elapsed:  3.4min\n",
      "[Parallel(n_jobs=-1)]: Done 300 out of 300 | elapsed:  6.9min finished\n"
     ]
    },
    {
     "data": {
      "text/plain": [
       "RandomizedSearchCV(cv=3, estimator=RandomForestRegressor(), n_iter=100,\n",
       "                   n_jobs=-1,\n",
       "                   param_distributions={'bootstrap': [True, False],\n",
       "                                        'max_depth': [10, 28, 47, 66, 85, None],\n",
       "                                        'max_features': ['auto', 'sqrt'],\n",
       "                                        'min_samples_leaf': [1, 5],\n",
       "                                        'min_samples_split': [5, 10],\n",
       "                                        'n_estimators': [5, 26, 48, 70, 91, 113,\n",
       "                                                         135, 156, 178, 200]},\n",
       "                   random_state=0, verbose=2)"
      ]
     },
     "execution_count": 85,
     "metadata": {},
     "output_type": "execute_result"
    }
   ],
   "source": [
    "rfr = RandomForestRegressor()\n",
    "rscv = RandomizedSearchCV(estimator = rfr, param_distributions = random_grid, n_iter = 100, cv = 3, verbose=2, random_state=0, n_jobs = -1)\n",
    "rscv.fit(X_train, y_train)"
   ]
  },
  {
   "cell_type": "code",
   "execution_count": 86,
   "metadata": {},
   "outputs": [
    {
     "data": {
      "text/plain": [
       "0.25053302235974095"
      ]
     },
     "execution_count": 86,
     "metadata": {},
     "output_type": "execute_result"
    }
   ],
   "source": [
    "rscv.best_score_"
   ]
  },
  {
   "cell_type": "code",
   "execution_count": 87,
   "metadata": {},
   "outputs": [],
   "source": [
    "pred = rscv.predict(X_test)"
   ]
  },
  {
   "cell_type": "code",
   "execution_count": 88,
   "metadata": {},
   "outputs": [
    {
     "name": "stdout",
     "output_type": "stream",
     "text": [
      "Coefficients: \n",
      " [-0.00341831  0.0672601   0.10925107 -0.00268294 -0.04680839 -0.05255321\n",
      "  0.04193538  0.00958404 -0.03751915 -0.00206167  0.00333444 -0.00246409\n",
      " -0.00124973 -0.00166488 -0.01514879]\n",
      "Mean squared error: 0.01\n",
      "Coefficient of determination: 0.24\n"
     ]
    }
   ],
   "source": [
    "print('Coefficients: \\n', lr.coef_)\n",
    "print('Mean squared error: %.2f'\n",
    "      % mean_squared_error(y_test, pred))\n",
    "print('Coefficient of determination: %.2f'\n",
    "      % r2_score(y_test, pred))"
   ]
  },
  {
   "cell_type": "code",
   "execution_count": 101,
   "metadata": {},
   "outputs": [],
   "source": []
  },
  {
   "cell_type": "code",
   "execution_count": null,
   "metadata": {},
   "outputs": [],
   "source": []
  }
 ],
 "metadata": {
  "kernelspec": {
   "display_name": "Python 3",
   "language": "python",
   "name": "python3"
  },
  "language_info": {
   "codemirror_mode": {
    "name": "ipython",
    "version": 3
   },
   "file_extension": ".py",
   "mimetype": "text/x-python",
   "name": "python",
   "nbconvert_exporter": "python",
   "pygments_lexer": "ipython3",
   "version": "3.7.3"
  }
 },
 "nbformat": 4,
 "nbformat_minor": 2
}
